{
 "cells": [
  {
   "cell_type": "markdown",
   "metadata": {},
   "source": [
    "# Prosper Loan Data Exploration\n",
    "\n",
    "## Basic Data Wrangling\n",
    "This notebook holds my analysis efforts for the Prosper Loan Data. I will first explore my dataset, identify the main variables qualified for my analysis (I can go here back and forth). And do some cleaning for the data along the way.\n",
    "\n",
    "Then exploration will take place. [This link](https://www.google.com/url?q=https://docs.google.com/spreadsheet/ccc?key%3D0AllIqIyvWZdadDd5NTlqZ1pBMHlsUjdrOTZHaVBuSlE%26usp%3Dsharing&sa=D&ust=1554486256024000) explains all variables definitions."
   ]
  },
  {
   "cell_type": "code",
   "execution_count": 1,
   "metadata": {},
   "outputs": [],
   "source": [
    "import numpy as np\n",
    "import pandas as pd\n",
    "import matplotlib.pyplot as plt\n",
    "import seaborn as sb\n",
    "import plotly.express as px\n",
    "\n",
    "%matplotlib inline"
   ]
  },
  {
   "cell_type": "markdown",
   "metadata": {},
   "source": [
    "[Set off the warning in Pandas](https://www.dataquest.io/blog/settingwithcopywarning/)."
   ]
  },
  {
   "cell_type": "code",
   "execution_count": 2,
   "metadata": {},
   "outputs": [],
   "source": [
    "# Set off the warning\n",
    "pd.set_option('mode.chained_assignment', None)\n",
    "# load in the dataset into a pandas dataframe, I will look at the structure in the wrangling process\n",
    "df = pd.read_csv('prosperLoanData.csv')"
   ]
  },
  {
   "cell_type": "markdown",
   "metadata": {},
   "source": [
    "I will pull a set of variables here for analysis (With the listing key only acting as a primary key). According to the pulled information about the dataset also, these variables will be fixed up and cleaned in my wrangling process."
   ]
  },
  {
   "cell_type": "code",
   "execution_count": 3,
   "metadata": {},
   "outputs": [],
   "source": [
    "# Pulling my main data\n",
    "df2 = df[['ListingKey','Term', 'LoanStatus', 'CreditGrade','ClosedDate','BorrowerAPR','BorrowerRate', 'EstimatedEffectiveYield'\n",
    "          ,'ProsperRating (Alpha)', 'ProsperScore', 'ListingCategory (numeric)','BorrowerState','EmploymentStatus'\n",
    "          , 'Occupation', 'EmploymentStatusDuration','IsBorrowerHomeowner', 'DebtToIncomeRatio','IncomeRange', 'StatedMonthlyIncome', 'LoanOriginalAmount'\n",
    "          , 'LoanOriginationDate','MonthlyLoanPayment','PercentFunded', 'Investors']]"
   ]
  },
  {
   "cell_type": "code",
   "execution_count": 4,
   "metadata": {
    "scrolled": true
   },
   "outputs": [
    {
     "data": {
      "text/html": [
       "<div>\n",
       "<style scoped>\n",
       "    .dataframe tbody tr th:only-of-type {\n",
       "        vertical-align: middle;\n",
       "    }\n",
       "\n",
       "    .dataframe tbody tr th {\n",
       "        vertical-align: top;\n",
       "    }\n",
       "\n",
       "    .dataframe thead th {\n",
       "        text-align: right;\n",
       "    }\n",
       "</style>\n",
       "<table border=\"1\" class=\"dataframe\">\n",
       "  <thead>\n",
       "    <tr style=\"text-align: right;\">\n",
       "      <th></th>\n",
       "      <th>ListingKey</th>\n",
       "      <th>Term</th>\n",
       "      <th>LoanStatus</th>\n",
       "      <th>CreditGrade</th>\n",
       "      <th>ClosedDate</th>\n",
       "      <th>BorrowerAPR</th>\n",
       "      <th>BorrowerRate</th>\n",
       "      <th>EstimatedEffectiveYield</th>\n",
       "      <th>ProsperRating (Alpha)</th>\n",
       "      <th>ProsperScore</th>\n",
       "      <th>...</th>\n",
       "      <th>EmploymentStatusDuration</th>\n",
       "      <th>IsBorrowerHomeowner</th>\n",
       "      <th>DebtToIncomeRatio</th>\n",
       "      <th>IncomeRange</th>\n",
       "      <th>StatedMonthlyIncome</th>\n",
       "      <th>LoanOriginalAmount</th>\n",
       "      <th>LoanOriginationDate</th>\n",
       "      <th>MonthlyLoanPayment</th>\n",
       "      <th>PercentFunded</th>\n",
       "      <th>Investors</th>\n",
       "    </tr>\n",
       "  </thead>\n",
       "  <tbody>\n",
       "    <tr>\n",
       "      <th>0</th>\n",
       "      <td>1021339766868145413AB3B</td>\n",
       "      <td>36</td>\n",
       "      <td>Completed</td>\n",
       "      <td>C</td>\n",
       "      <td>2009-08-14 00:00:00</td>\n",
       "      <td>0.16516</td>\n",
       "      <td>0.1580</td>\n",
       "      <td>NaN</td>\n",
       "      <td>NaN</td>\n",
       "      <td>NaN</td>\n",
       "      <td>...</td>\n",
       "      <td>2.0</td>\n",
       "      <td>True</td>\n",
       "      <td>0.17</td>\n",
       "      <td>$25,000-49,999</td>\n",
       "      <td>3083.333333</td>\n",
       "      <td>9425</td>\n",
       "      <td>2007-09-12 00:00:00</td>\n",
       "      <td>330.43</td>\n",
       "      <td>1.0</td>\n",
       "      <td>258</td>\n",
       "    </tr>\n",
       "    <tr>\n",
       "      <th>1</th>\n",
       "      <td>10273602499503308B223C1</td>\n",
       "      <td>36</td>\n",
       "      <td>Current</td>\n",
       "      <td>NaN</td>\n",
       "      <td>NaN</td>\n",
       "      <td>0.12016</td>\n",
       "      <td>0.0920</td>\n",
       "      <td>0.07960</td>\n",
       "      <td>A</td>\n",
       "      <td>7.0</td>\n",
       "      <td>...</td>\n",
       "      <td>44.0</td>\n",
       "      <td>False</td>\n",
       "      <td>0.18</td>\n",
       "      <td>$50,000-74,999</td>\n",
       "      <td>6125.000000</td>\n",
       "      <td>10000</td>\n",
       "      <td>2014-03-03 00:00:00</td>\n",
       "      <td>318.93</td>\n",
       "      <td>1.0</td>\n",
       "      <td>1</td>\n",
       "    </tr>\n",
       "    <tr>\n",
       "      <th>2</th>\n",
       "      <td>0EE9337825851032864889A</td>\n",
       "      <td>36</td>\n",
       "      <td>Completed</td>\n",
       "      <td>HR</td>\n",
       "      <td>2009-12-17 00:00:00</td>\n",
       "      <td>0.28269</td>\n",
       "      <td>0.2750</td>\n",
       "      <td>NaN</td>\n",
       "      <td>NaN</td>\n",
       "      <td>NaN</td>\n",
       "      <td>...</td>\n",
       "      <td>NaN</td>\n",
       "      <td>False</td>\n",
       "      <td>0.06</td>\n",
       "      <td>Not displayed</td>\n",
       "      <td>2083.333333</td>\n",
       "      <td>3001</td>\n",
       "      <td>2007-01-17 00:00:00</td>\n",
       "      <td>123.32</td>\n",
       "      <td>1.0</td>\n",
       "      <td>41</td>\n",
       "    </tr>\n",
       "    <tr>\n",
       "      <th>3</th>\n",
       "      <td>0EF5356002482715299901A</td>\n",
       "      <td>36</td>\n",
       "      <td>Current</td>\n",
       "      <td>NaN</td>\n",
       "      <td>NaN</td>\n",
       "      <td>0.12528</td>\n",
       "      <td>0.0974</td>\n",
       "      <td>0.08490</td>\n",
       "      <td>A</td>\n",
       "      <td>9.0</td>\n",
       "      <td>...</td>\n",
       "      <td>113.0</td>\n",
       "      <td>True</td>\n",
       "      <td>0.15</td>\n",
       "      <td>$25,000-49,999</td>\n",
       "      <td>2875.000000</td>\n",
       "      <td>10000</td>\n",
       "      <td>2012-11-01 00:00:00</td>\n",
       "      <td>321.45</td>\n",
       "      <td>1.0</td>\n",
       "      <td>158</td>\n",
       "    </tr>\n",
       "    <tr>\n",
       "      <th>4</th>\n",
       "      <td>0F023589499656230C5E3E2</td>\n",
       "      <td>36</td>\n",
       "      <td>Current</td>\n",
       "      <td>NaN</td>\n",
       "      <td>NaN</td>\n",
       "      <td>0.24614</td>\n",
       "      <td>0.2085</td>\n",
       "      <td>0.18316</td>\n",
       "      <td>D</td>\n",
       "      <td>4.0</td>\n",
       "      <td>...</td>\n",
       "      <td>44.0</td>\n",
       "      <td>True</td>\n",
       "      <td>0.26</td>\n",
       "      <td>$100,000+</td>\n",
       "      <td>9583.333333</td>\n",
       "      <td>15000</td>\n",
       "      <td>2013-09-20 00:00:00</td>\n",
       "      <td>563.97</td>\n",
       "      <td>1.0</td>\n",
       "      <td>20</td>\n",
       "    </tr>\n",
       "  </tbody>\n",
       "</table>\n",
       "<p>5 rows × 24 columns</p>\n",
       "</div>"
      ],
      "text/plain": [
       "                ListingKey  Term LoanStatus CreditGrade           ClosedDate  \\\n",
       "0  1021339766868145413AB3B    36  Completed           C  2009-08-14 00:00:00   \n",
       "1  10273602499503308B223C1    36    Current         NaN                  NaN   \n",
       "2  0EE9337825851032864889A    36  Completed          HR  2009-12-17 00:00:00   \n",
       "3  0EF5356002482715299901A    36    Current         NaN                  NaN   \n",
       "4  0F023589499656230C5E3E2    36    Current         NaN                  NaN   \n",
       "\n",
       "   BorrowerAPR  BorrowerRate  EstimatedEffectiveYield ProsperRating (Alpha)  \\\n",
       "0      0.16516        0.1580                      NaN                   NaN   \n",
       "1      0.12016        0.0920                  0.07960                     A   \n",
       "2      0.28269        0.2750                      NaN                   NaN   \n",
       "3      0.12528        0.0974                  0.08490                     A   \n",
       "4      0.24614        0.2085                  0.18316                     D   \n",
       "\n",
       "   ProsperScore  ...  EmploymentStatusDuration IsBorrowerHomeowner  \\\n",
       "0           NaN  ...                       2.0                True   \n",
       "1           7.0  ...                      44.0               False   \n",
       "2           NaN  ...                       NaN               False   \n",
       "3           9.0  ...                     113.0                True   \n",
       "4           4.0  ...                      44.0                True   \n",
       "\n",
       "  DebtToIncomeRatio     IncomeRange  StatedMonthlyIncome  LoanOriginalAmount  \\\n",
       "0              0.17  $25,000-49,999          3083.333333                9425   \n",
       "1              0.18  $50,000-74,999          6125.000000               10000   \n",
       "2              0.06   Not displayed          2083.333333                3001   \n",
       "3              0.15  $25,000-49,999          2875.000000               10000   \n",
       "4              0.26       $100,000+          9583.333333               15000   \n",
       "\n",
       "   LoanOriginationDate MonthlyLoanPayment  PercentFunded  Investors  \n",
       "0  2007-09-12 00:00:00             330.43            1.0        258  \n",
       "1  2014-03-03 00:00:00             318.93            1.0          1  \n",
       "2  2007-01-17 00:00:00             123.32            1.0         41  \n",
       "3  2012-11-01 00:00:00             321.45            1.0        158  \n",
       "4  2013-09-20 00:00:00             563.97            1.0         20  \n",
       "\n",
       "[5 rows x 24 columns]"
      ]
     },
     "execution_count": 4,
     "metadata": {},
     "output_type": "execute_result"
    }
   ],
   "source": [
    "df2.head()"
   ]
  },
  {
   "cell_type": "code",
   "execution_count": 5,
   "metadata": {},
   "outputs": [
    {
     "name": "stdout",
     "output_type": "stream",
     "text": [
      "<class 'pandas.core.frame.DataFrame'>\n",
      "RangeIndex: 113937 entries, 0 to 113936\n",
      "Data columns (total 24 columns):\n",
      "ListingKey                   113937 non-null object\n",
      "Term                         113937 non-null int64\n",
      "LoanStatus                   113937 non-null object\n",
      "CreditGrade                  28953 non-null object\n",
      "ClosedDate                   55089 non-null object\n",
      "BorrowerAPR                  113912 non-null float64\n",
      "BorrowerRate                 113937 non-null float64\n",
      "EstimatedEffectiveYield      84853 non-null float64\n",
      "ProsperRating (Alpha)        84853 non-null object\n",
      "ProsperScore                 84853 non-null float64\n",
      "ListingCategory (numeric)    113937 non-null int64\n",
      "BorrowerState                108422 non-null object\n",
      "EmploymentStatus             111682 non-null object\n",
      "Occupation                   110349 non-null object\n",
      "EmploymentStatusDuration     106312 non-null float64\n",
      "IsBorrowerHomeowner          113937 non-null bool\n",
      "DebtToIncomeRatio            105383 non-null float64\n",
      "IncomeRange                  113937 non-null object\n",
      "StatedMonthlyIncome          113937 non-null float64\n",
      "LoanOriginalAmount           113937 non-null int64\n",
      "LoanOriginationDate          113937 non-null object\n",
      "MonthlyLoanPayment           113937 non-null float64\n",
      "PercentFunded                113937 non-null float64\n",
      "Investors                    113937 non-null int64\n",
      "dtypes: bool(1), float64(9), int64(4), object(10)\n",
      "memory usage: 20.1+ MB\n"
     ]
    }
   ],
   "source": [
    "df2.info()"
   ]
  },
  {
   "cell_type": "markdown",
   "metadata": {},
   "source": [
    "### Now for some cleaning"
   ]
  },
  {
   "cell_type": "markdown",
   "metadata": {},
   "source": [
    "**Columns should be in lowercase.**"
   ]
  },
  {
   "cell_type": "code",
   "execution_count": 6,
   "metadata": {
    "scrolled": true
   },
   "outputs": [],
   "source": [
    "df2.columns = map(str.lower, df2.columns)"
   ]
  },
  {
   "cell_type": "markdown",
   "metadata": {},
   "source": [
    "**Two variables can be merged are the 'creditgrade' and the 'prosperrating (alpha)' for anlaysis purpose, and also sub any remaining null with 'OFF' as a value (These are listings with no running loan request).**\n",
    "\n",
    "I will replace the missing values with 'NC' as they are completed loans and as the same as predecessor loans which were graded that way."
   ]
  },
  {
   "cell_type": "code",
   "execution_count": 7,
   "metadata": {},
   "outputs": [],
   "source": [
    "# Merge the prosperrating (alpha) into the creitgrade\n",
    "df2.creditgrade.fillna(df2['prosperrating (alpha)'], inplace=True)\n",
    "# Handle remaining null as OFF\n",
    "df2['creditgrade'] = df2.creditgrade.fillna('NC')\n",
    "#Drop the prosperrating (alpha) column, we do not need it.\n",
    "df2 = df2.drop(['prosperrating (alpha)'], axis = 1)"
   ]
  },
  {
   "cell_type": "markdown",
   "metadata": {},
   "source": [
    "**The 'listingcategory (numeric)' needs to be subbed by the corresponding listing explained in the dictionary sheet. Also renaming the column to get rid of symbols and spaces.**"
   ]
  },
  {
   "cell_type": "code",
   "execution_count": 8,
   "metadata": {},
   "outputs": [],
   "source": [
    "# Define rhe numbers as a string\n",
    "df2['listingcategory (numeric)'] = df2['listingcategory (numeric)'].astype(str)\n",
    "# use .replace and replace each variable\n",
    "df2['listingcategory (numeric)'] = df2['listingcategory (numeric)'].replace({'0' : 'Not Available', '1' : 'Debt Consolidation', '2' : 'Home Improvement'\n",
    "                                                                             , '3' : 'Business', '4' : 'Personal Loan', '5' : 'Student Use'\n",
    "                                                                             , '6' : 'Auto', '7' : 'Other', '8' : 'Baby&Adoption'\n",
    "                                                                             , '9' : 'Boat', '10' : 'Cosmetic Procedure', '11' : 'Engagement Ring'\n",
    "                                                                             , '12' : 'Green Loans', '13' : 'Household Expenses', '14' : 'Large Purchases'\n",
    "                                                                             , '15' : 'Medical/Dental', '16' : 'Motorcycle', '17' : 'RV'\n",
    "                                                                             , '18' : 'Taxes', '19' : 'Vacation', '20' : 'Wedding Loans'})\n"
   ]
  },
  {
   "cell_type": "markdown",
   "metadata": {},
   "source": [
    "**Rename the columns lisitngcategory (numeric) and prosperrating (numeric) to remove spaces and parenthesis.**"
   ]
  },
  {
   "cell_type": "code",
   "execution_count": 9,
   "metadata": {},
   "outputs": [],
   "source": [
    "df2.rename(columns = {\"listingcategory (numeric)\" : \"listingcat\"}, inplace = True)"
   ]
  },
  {
   "cell_type": "markdown",
   "metadata": {},
   "source": [
    "**Change the type of any date into timestamp to be easier for analysis.**"
   ]
  },
  {
   "cell_type": "code",
   "execution_count": 10,
   "metadata": {},
   "outputs": [],
   "source": [
    "df2.closeddate =  pd.to_datetime(df2.closeddate)\n",
    "df2.loanoriginationdate = pd.to_datetime(df2.loanoriginationdate)"
   ]
  },
  {
   "cell_type": "markdown",
   "metadata": {},
   "source": [
    "**Fill the remianing missing values in 'borrowerapr' by the mean of the column to make ease of use of the data for analysis, that way the level of accuracy will not be burdened much and will have ourselves the vast of the data to play around with.**"
   ]
  },
  {
   "cell_type": "code",
   "execution_count": 11,
   "metadata": {},
   "outputs": [],
   "source": [
    "df2['borrowerapr'] = df2.borrowerapr.fillna(df2['borrowerapr'].mean())"
   ]
  },
  {
   "cell_type": "markdown",
   "metadata": {},
   "source": [
    "**State names instead of abbreviations as the abbreviations are not easy for reading through. [Nice way of mapping here](https://stackoverflow.com/questions/20250771/remap-values-in-pandas-column-with-a-dict).**"
   ]
  },
  {
   "cell_type": "code",
   "execution_count": 12,
   "metadata": {},
   "outputs": [],
   "source": [
    "us_state_abbrev = {'AL': 'Alabama', 'AK': 'Alaska', 'AZ': 'Arizona', 'AR': 'Arkansas', 'CA': 'California', 'CO': 'Colorado'\n",
    "                   , 'CT': 'Connecticut', 'DE': 'Delaware', 'FL': 'Florida', 'GA': 'Georgia', 'HI': 'Hawaii', 'ID': 'Idaho'\n",
    "                   , 'IL': 'Illinois', 'IN': 'Indiana', 'IA': 'Iowa', 'KS': 'Kansas', 'KY': 'Kentucky', 'LA': 'Louisiana'\n",
    "                   , 'ME': 'Maine', 'MD': 'Maryland', 'MA': 'Massachusetts', 'MI': 'Michigan', 'MN': 'Minnesota'\n",
    "                   , 'MS': 'Mississippi', 'MO': 'Missouri', 'MT': 'Montana', 'NE': 'Nebraska', 'NV': 'Nevada'\n",
    "                   , 'NH': 'New Hampshire', 'NJ': 'New Jersey', 'NM': 'New Mexico', 'NY': 'New York'\n",
    "                   , 'NC': 'North Carolina', 'ND': 'North Dakota', 'OH': 'Ohio', 'OK': 'Oklahoma', 'OR': 'Oregon'\n",
    "                   , 'PA': 'Pennsylvania', 'RI': 'Rhode Island', 'SC': 'South Carolina', 'SD': 'South Dakota'\n",
    "                   , 'TN': 'Tennessee', 'TX': 'Texas', 'UT': 'Utah', 'VT': 'Vermont', 'VA': 'Virginia', 'WA': 'Washington'\n",
    "                   , 'WV': 'West Virginia', 'WI': 'Wisconsin', 'WY': 'Wyoming'}\n",
    "\n",
    "df2 = df2.replace({'borrowerstate' : us_state_abbrev})\n",
    "\n",
    "df2.borrowerstate = df2.borrowerstate.fillna('Not Stated')"
   ]
  },
  {
   "cell_type": "markdown",
   "metadata": {},
   "source": [
    "**Make 'employmentstatusduration' in years instead of months to ease the look of plotting.**"
   ]
  },
  {
   "cell_type": "code",
   "execution_count": 13,
   "metadata": {},
   "outputs": [],
   "source": [
    "df2['employmentstatusduration'] = df2['employmentstatusduration']/12"
   ]
  },
  {
   "cell_type": "markdown",
   "metadata": {},
   "source": [
    "**Change the necessary variables to category.**"
   ]
  },
  {
   "cell_type": "code",
   "execution_count": 14,
   "metadata": {},
   "outputs": [],
   "source": [
    "# astype categorial\n",
    "df2.creditgrade = df2.creditgrade.astype('category')\n",
    "df2.loanstatus = df2.loanstatus.astype('category')\n",
    "df2.incomerange = df2.incomerange.astype('category')\n",
    "df2.listingcat = df2.listingcat.astype('category')"
   ]
  },
  {
   "cell_type": "markdown",
   "metadata": {},
   "source": [
    "**Then the final view!!**"
   ]
  },
  {
   "cell_type": "code",
   "execution_count": 15,
   "metadata": {},
   "outputs": [],
   "source": [
    "# To see all columns in my dataset\n",
    "pd.set_option('display.max_columns', 500)"
   ]
  },
  {
   "cell_type": "code",
   "execution_count": 16,
   "metadata": {},
   "outputs": [
    {
     "data": {
      "text/html": [
       "<div>\n",
       "<style scoped>\n",
       "    .dataframe tbody tr th:only-of-type {\n",
       "        vertical-align: middle;\n",
       "    }\n",
       "\n",
       "    .dataframe tbody tr th {\n",
       "        vertical-align: top;\n",
       "    }\n",
       "\n",
       "    .dataframe thead th {\n",
       "        text-align: right;\n",
       "    }\n",
       "</style>\n",
       "<table border=\"1\" class=\"dataframe\">\n",
       "  <thead>\n",
       "    <tr style=\"text-align: right;\">\n",
       "      <th></th>\n",
       "      <th>listingkey</th>\n",
       "      <th>term</th>\n",
       "      <th>loanstatus</th>\n",
       "      <th>creditgrade</th>\n",
       "      <th>closeddate</th>\n",
       "      <th>borrowerapr</th>\n",
       "      <th>borrowerrate</th>\n",
       "      <th>estimatedeffectiveyield</th>\n",
       "      <th>prosperscore</th>\n",
       "      <th>listingcat</th>\n",
       "      <th>borrowerstate</th>\n",
       "      <th>employmentstatus</th>\n",
       "      <th>occupation</th>\n",
       "      <th>employmentstatusduration</th>\n",
       "      <th>isborrowerhomeowner</th>\n",
       "      <th>debttoincomeratio</th>\n",
       "      <th>incomerange</th>\n",
       "      <th>statedmonthlyincome</th>\n",
       "      <th>loanoriginalamount</th>\n",
       "      <th>loanoriginationdate</th>\n",
       "      <th>monthlyloanpayment</th>\n",
       "      <th>percentfunded</th>\n",
       "      <th>investors</th>\n",
       "    </tr>\n",
       "  </thead>\n",
       "  <tbody>\n",
       "    <tr>\n",
       "      <th>0</th>\n",
       "      <td>1021339766868145413AB3B</td>\n",
       "      <td>36</td>\n",
       "      <td>Completed</td>\n",
       "      <td>C</td>\n",
       "      <td>2009-08-14</td>\n",
       "      <td>0.16516</td>\n",
       "      <td>0.1580</td>\n",
       "      <td>NaN</td>\n",
       "      <td>NaN</td>\n",
       "      <td>Not Available</td>\n",
       "      <td>Colorado</td>\n",
       "      <td>Self-employed</td>\n",
       "      <td>Other</td>\n",
       "      <td>0.166667</td>\n",
       "      <td>True</td>\n",
       "      <td>0.17</td>\n",
       "      <td>$25,000-49,999</td>\n",
       "      <td>3083.333333</td>\n",
       "      <td>9425</td>\n",
       "      <td>2007-09-12</td>\n",
       "      <td>330.43</td>\n",
       "      <td>1.0</td>\n",
       "      <td>258</td>\n",
       "    </tr>\n",
       "    <tr>\n",
       "      <th>1</th>\n",
       "      <td>10273602499503308B223C1</td>\n",
       "      <td>36</td>\n",
       "      <td>Current</td>\n",
       "      <td>A</td>\n",
       "      <td>NaT</td>\n",
       "      <td>0.12016</td>\n",
       "      <td>0.0920</td>\n",
       "      <td>0.07960</td>\n",
       "      <td>7.0</td>\n",
       "      <td>Home Improvement</td>\n",
       "      <td>Colorado</td>\n",
       "      <td>Employed</td>\n",
       "      <td>Professional</td>\n",
       "      <td>3.666667</td>\n",
       "      <td>False</td>\n",
       "      <td>0.18</td>\n",
       "      <td>$50,000-74,999</td>\n",
       "      <td>6125.000000</td>\n",
       "      <td>10000</td>\n",
       "      <td>2014-03-03</td>\n",
       "      <td>318.93</td>\n",
       "      <td>1.0</td>\n",
       "      <td>1</td>\n",
       "    </tr>\n",
       "    <tr>\n",
       "      <th>2</th>\n",
       "      <td>0EE9337825851032864889A</td>\n",
       "      <td>36</td>\n",
       "      <td>Completed</td>\n",
       "      <td>HR</td>\n",
       "      <td>2009-12-17</td>\n",
       "      <td>0.28269</td>\n",
       "      <td>0.2750</td>\n",
       "      <td>NaN</td>\n",
       "      <td>NaN</td>\n",
       "      <td>Not Available</td>\n",
       "      <td>Georgia</td>\n",
       "      <td>Not available</td>\n",
       "      <td>Other</td>\n",
       "      <td>NaN</td>\n",
       "      <td>False</td>\n",
       "      <td>0.06</td>\n",
       "      <td>Not displayed</td>\n",
       "      <td>2083.333333</td>\n",
       "      <td>3001</td>\n",
       "      <td>2007-01-17</td>\n",
       "      <td>123.32</td>\n",
       "      <td>1.0</td>\n",
       "      <td>41</td>\n",
       "    </tr>\n",
       "    <tr>\n",
       "      <th>3</th>\n",
       "      <td>0EF5356002482715299901A</td>\n",
       "      <td>36</td>\n",
       "      <td>Current</td>\n",
       "      <td>A</td>\n",
       "      <td>NaT</td>\n",
       "      <td>0.12528</td>\n",
       "      <td>0.0974</td>\n",
       "      <td>0.08490</td>\n",
       "      <td>9.0</td>\n",
       "      <td>Motorcycle</td>\n",
       "      <td>Georgia</td>\n",
       "      <td>Employed</td>\n",
       "      <td>Skilled Labor</td>\n",
       "      <td>9.416667</td>\n",
       "      <td>True</td>\n",
       "      <td>0.15</td>\n",
       "      <td>$25,000-49,999</td>\n",
       "      <td>2875.000000</td>\n",
       "      <td>10000</td>\n",
       "      <td>2012-11-01</td>\n",
       "      <td>321.45</td>\n",
       "      <td>1.0</td>\n",
       "      <td>158</td>\n",
       "    </tr>\n",
       "    <tr>\n",
       "      <th>4</th>\n",
       "      <td>0F023589499656230C5E3E2</td>\n",
       "      <td>36</td>\n",
       "      <td>Current</td>\n",
       "      <td>D</td>\n",
       "      <td>NaT</td>\n",
       "      <td>0.24614</td>\n",
       "      <td>0.2085</td>\n",
       "      <td>0.18316</td>\n",
       "      <td>4.0</td>\n",
       "      <td>Home Improvement</td>\n",
       "      <td>Minnesota</td>\n",
       "      <td>Employed</td>\n",
       "      <td>Executive</td>\n",
       "      <td>3.666667</td>\n",
       "      <td>True</td>\n",
       "      <td>0.26</td>\n",
       "      <td>$100,000+</td>\n",
       "      <td>9583.333333</td>\n",
       "      <td>15000</td>\n",
       "      <td>2013-09-20</td>\n",
       "      <td>563.97</td>\n",
       "      <td>1.0</td>\n",
       "      <td>20</td>\n",
       "    </tr>\n",
       "  </tbody>\n",
       "</table>\n",
       "</div>"
      ],
      "text/plain": [
       "                listingkey  term loanstatus creditgrade closeddate  \\\n",
       "0  1021339766868145413AB3B    36  Completed           C 2009-08-14   \n",
       "1  10273602499503308B223C1    36    Current           A        NaT   \n",
       "2  0EE9337825851032864889A    36  Completed          HR 2009-12-17   \n",
       "3  0EF5356002482715299901A    36    Current           A        NaT   \n",
       "4  0F023589499656230C5E3E2    36    Current           D        NaT   \n",
       "\n",
       "   borrowerapr  borrowerrate  estimatedeffectiveyield  prosperscore  \\\n",
       "0      0.16516        0.1580                      NaN           NaN   \n",
       "1      0.12016        0.0920                  0.07960           7.0   \n",
       "2      0.28269        0.2750                      NaN           NaN   \n",
       "3      0.12528        0.0974                  0.08490           9.0   \n",
       "4      0.24614        0.2085                  0.18316           4.0   \n",
       "\n",
       "         listingcat borrowerstate employmentstatus     occupation  \\\n",
       "0     Not Available      Colorado    Self-employed          Other   \n",
       "1  Home Improvement      Colorado         Employed   Professional   \n",
       "2     Not Available       Georgia    Not available          Other   \n",
       "3        Motorcycle       Georgia         Employed  Skilled Labor   \n",
       "4  Home Improvement     Minnesota         Employed      Executive   \n",
       "\n",
       "   employmentstatusduration  isborrowerhomeowner  debttoincomeratio  \\\n",
       "0                  0.166667                 True               0.17   \n",
       "1                  3.666667                False               0.18   \n",
       "2                       NaN                False               0.06   \n",
       "3                  9.416667                 True               0.15   \n",
       "4                  3.666667                 True               0.26   \n",
       "\n",
       "      incomerange  statedmonthlyincome  loanoriginalamount  \\\n",
       "0  $25,000-49,999          3083.333333                9425   \n",
       "1  $50,000-74,999          6125.000000               10000   \n",
       "2   Not displayed          2083.333333                3001   \n",
       "3  $25,000-49,999          2875.000000               10000   \n",
       "4       $100,000+          9583.333333               15000   \n",
       "\n",
       "  loanoriginationdate  monthlyloanpayment  percentfunded  investors  \n",
       "0          2007-09-12              330.43            1.0        258  \n",
       "1          2014-03-03              318.93            1.0          1  \n",
       "2          2007-01-17              123.32            1.0         41  \n",
       "3          2012-11-01              321.45            1.0        158  \n",
       "4          2013-09-20              563.97            1.0         20  "
      ]
     },
     "execution_count": 16,
     "metadata": {},
     "output_type": "execute_result"
    }
   ],
   "source": [
    "df2.head()"
   ]
  },
  {
   "cell_type": "code",
   "execution_count": 17,
   "metadata": {},
   "outputs": [
    {
     "name": "stdout",
     "output_type": "stream",
     "text": [
      "<class 'pandas.core.frame.DataFrame'>\n",
      "RangeIndex: 113937 entries, 0 to 113936\n",
      "Data columns (total 23 columns):\n",
      "listingkey                  113937 non-null object\n",
      "term                        113937 non-null int64\n",
      "loanstatus                  113937 non-null category\n",
      "creditgrade                 113937 non-null category\n",
      "closeddate                  55089 non-null datetime64[ns]\n",
      "borrowerapr                 113937 non-null float64\n",
      "borrowerrate                113937 non-null float64\n",
      "estimatedeffectiveyield     84853 non-null float64\n",
      "prosperscore                84853 non-null float64\n",
      "listingcat                  113937 non-null category\n",
      "borrowerstate               113937 non-null object\n",
      "employmentstatus            111682 non-null object\n",
      "occupation                  110349 non-null object\n",
      "employmentstatusduration    106312 non-null float64\n",
      "isborrowerhomeowner         113937 non-null bool\n",
      "debttoincomeratio           105383 non-null float64\n",
      "incomerange                 113937 non-null category\n",
      "statedmonthlyincome         113937 non-null float64\n",
      "loanoriginalamount          113937 non-null int64\n",
      "loanoriginationdate         113937 non-null datetime64[ns]\n",
      "monthlyloanpayment          113937 non-null float64\n",
      "percentfunded               113937 non-null float64\n",
      "investors                   113937 non-null int64\n",
      "dtypes: bool(1), category(4), datetime64[ns](2), float64(9), int64(3), object(4)\n",
      "memory usage: 16.2+ MB\n",
      "None\n"
     ]
    }
   ],
   "source": [
    "print(df2.info())"
   ]
  },
  {
   "cell_type": "markdown",
   "metadata": {},
   "source": [
    "## Motivation\n",
    "The pulled variables in my polished dataset are the main aspects I want to look at. Fristly, I want to understand the profile of the listed borrowers, and their main motive behind. Also, how does the prospers fare in terms of gains for investors who are willing to take part in investing on loans, what other variables might influence them?\n",
    "\n",
    "I tend to fix the borrowers' rate and borrowers' APR variables and see how they are affected by numeric and categorial variables in this dataset. This part will hold extensive research in data and lots of observations through many plots and modelling.\n",
    "\n",
    "I will be posing questions along the way and analyzing their outcomes for more insights."
   ]
  },
  {
   "cell_type": "markdown",
   "metadata": {},
   "source": [
    "## Exploration and Analysis\n",
    "### Borrowers Profile\n",
    "The first thing I want to do is understand my data, who are these borrowers and how are they distributed along the various information?"
   ]
  },
  {
   "cell_type": "code",
   "execution_count": 28,
   "metadata": {
    "scrolled": false
   },
   "outputs": [
    {
     "data": {
      "image/png": "[encoded data removed]",
      "text/plain": [
       "<Figure size 1008x576 with 3 Axes>"
      ]
     },
     "metadata": {
      "needs_background": "light"
     },
     "output_type": "display_data"
    }
   ],
   "source": [
    "np.warnings.filterwarnings('ignore')\n",
    "\n",
    "plt.figure(figsize = [14, 8])\n",
    "\n",
    "# Income range spread\n",
    "plt.subplot(2, 2, 1) # 1 row, 2 cols, subplot 1\n",
    "order = ['$0', '$1-24,999', '$25,000-49,999', '$50,000-74,999', '$75,000-99,999', '$100,000+', 'Not displayed', 'Not employed']\n",
    "ax = sb.countplot(data = df2, x = 'incomerange', hue = 'isborrowerhomeowner', palette = 'Blues', order = order);\n",
    "plt.xticks(rotation = 25);\n",
    "plt.legend(['Yes', 'No'], loc = 1\n",
    "          ,ncol = 2, framealpha = 0.5, title = 'Home owner?');\n",
    "plt.xlabel('Income Range');\n",
    "plt.ylabel('Number of borrowers');\n",
    "plt.title('Income Range');\n",
    "\n",
    "# Loan terms\n",
    "plt.subplot(2, 2, 2) # 1 row, 2 cols, subplot 2\n",
    "n_points = df2.shape[0]\n",
    "max_count = df2['employmentstatus'].value_counts().max()\n",
    "max_prop = max_count / n_points\n",
    "order = df2['employmentstatus'].value_counts().index\n",
    "# generate tick mark locations and names\n",
    "tick_props = np.arange(0, max_prop, 0.05)\n",
    "tick_names = ['{:0.0%}'.format(v) for v in tick_props]\n",
    "#Now plot\n",
    "sb.countplot(data = df2, x= 'employmentstatus', hue = 'isborrowerhomeowner', palette = 'Blues');\n",
    "plt.ylim([0,40000]);\n",
    "plt.yticks(tick_props * n_points, tick_names);\n",
    "plt.xticks(rotation = 25);\n",
    "plt.legend(['Yes', 'No'], loc = 1\n",
    "          ,ncol = 2, framealpha = 0.5, title = 'Home owner?');\n",
    "plt.xlabel('Employment status');\n",
    "plt.ylabel('Proportion of borrowers');\n",
    "plt.title('Emploment status');\n",
    "\n",
    "# Experience\n",
    "plt.subplot(2, 1, 2) # 1 row, 2 cols, subplot 3\n",
    "plt.hist(data = df2, x = 'employmentstatusduration', bins = 60);\n",
    "plt.xlabel('Years of Experience');\n",
    "plt.ylabel('Number of borrowers');\n",
    "plt.title('Working Experience of borrowers');\n",
    "\n",
    "plt.tight_layout()"
   ]
  },
  {
   "cell_type": "markdown",
   "metadata": {},
   "source": [
    "**What is the Income Range spread? And what is the ratio of homeownership in each range?**\n",
    "\n",
    "From the plots above we can have a clear view of the borrowers. First of all, the majority of borrowers fall in middle (25k-49.999k and 50k-74.999k). It is important to note that around 7500 borrowers have no displayed income range, these listings are associated with loans that have the status either Chargedoff, Defaulted or Completed and are not openening for another loan. Small portions of groups of income range 0 and unemployed is present with almost negligible observations.\n",
    "\n",
    "**How does the Employment Status of Borrowers look like? And What is the ratio of homeownership?**\n",
    "\n",
    "I assume that home ownership is important in loan listings as it acts as an important aspect in prosper rating and risk analysis. Certainly the only groups where home owners are more than non home owners are the ((1-24.999k and 25k-49.999k). Another indication is the employment status of the borrowers, though slight differences in home ownership, most borrowers are Employed and Full-time (altogether sum up to 80% of the borrowers. Please note that due to data integrity issues, both actually yield to the same status.\n",
    "\n",
    "**The distribution of employment experience.**\n",
    "\n",
    "Finally, the distribution of working experience. Looking at the rightly skewed shape, most of the borrowers have less than 10 years of experience. Meaning they could be students, people looking to etablish a new career or so. Of course we have outliers that have exprience for more than 40 years, could be that already most of these individuals already retired.\n",
    "\n",
    "The exprience and home ownership are surely going to be revisited as I believe they can bring in more effect to different aspects."
   ]
  },
  {
   "cell_type": "code",
   "execution_count": null,
   "metadata": {},
   "outputs": [],
   "source": []
  },
  {
   "cell_type": "code",
   "execution_count": null,
   "metadata": {},
   "outputs": [],
   "source": []
  },
  {
   "cell_type": "code",
   "execution_count": null,
   "metadata": {},
   "outputs": [],
   "source": []
  },
  {
   "cell_type": "code",
   "execution_count": null,
   "metadata": {},
   "outputs": [],
   "source": []
  },
  {
   "cell_type": "code",
   "execution_count": null,
   "metadata": {},
   "outputs": [],
   "source": []
  },
  {
   "cell_type": "code",
   "execution_count": null,
   "metadata": {},
   "outputs": [],
   "source": []
  },
  {
   "cell_type": "code",
   "execution_count": null,
   "metadata": {},
   "outputs": [],
   "source": []
  },
  {
   "cell_type": "code",
   "execution_count": null,
   "metadata": {},
   "outputs": [],
   "source": []
  },
  {
   "cell_type": "code",
   "execution_count": null,
   "metadata": {},
   "outputs": [],
   "source": []
  },
  {
   "cell_type": "code",
   "execution_count": null,
   "metadata": {},
   "outputs": [],
   "source": []
  },
  {
   "cell_type": "code",
   "execution_count": null,
   "metadata": {},
   "outputs": [],
   "source": []
  },
  {
   "cell_type": "code",
   "execution_count": null,
   "metadata": {},
   "outputs": [],
   "source": []
  },
  {
   "cell_type": "code",
   "execution_count": null,
   "metadata": {},
   "outputs": [],
   "source": []
  },
  {
   "cell_type": "code",
   "execution_count": null,
   "metadata": {},
   "outputs": [],
   "source": []
  },
  {
   "cell_type": "code",
   "execution_count": null,
   "metadata": {},
   "outputs": [],
   "source": []
  },
  {
   "cell_type": "markdown",
   "metadata": {},
   "source": [
    "**What are the Loan amounts mostly requested by the borrowers?**"
   ]
  },
  {
   "cell_type": "code",
   "execution_count": null,
   "metadata": {},
   "outputs": [],
   "source": [
    "# Set a reasonable bin\n",
    "bins = np.arange(0,df2['loanoriginalamount'].max()+1000, 1000)\n",
    "# Plot the data\n",
    "plt.figure(figsize = [8, 5])\n",
    "plt.hist(data = df2, x = 'loanoriginalamount', bins = bins);\n",
    "plt.xlabel('Loan Amount $');\n",
    "plt.ylabel('Number of Loans')\n",
    "plt.xticks([0, 5000, 10000, 15000, 20000, 25000, 30000, 35000], ['0', '5k', '10k', '15k', '20k', '25k', '30k', '35k']);\n",
    "plt.show();"
   ]
  },
  {
   "cell_type": "markdown",
   "metadata": {},
   "source": [
    "The plot shows a bimodal view. Most loan amounts requested is the $5,000 showing slightly more than 16,000 request in count. \n",
    "\n",
    "Spikes of  values can be seen along the histogram, with the second most requests for loan amounts slightly more than the $15,000 mark. Now in order to understand more if borrowers are forking up loans that are relatively 'high' or 'low' I will need to look at another 3 variables, the loan terms, income range and the loan states."
   ]
  },
  {
   "cell_type": "markdown",
   "metadata": {},
   "source": [
    "**How are the borrowers fare in terms of their income range, duration of loans and their loans status?**"
   ]
  },
  {
   "cell_type": "code",
   "execution_count": null,
   "metadata": {},
   "outputs": [],
   "source": [
    "plt.figure(figsize = [17, 10])\n",
    "\n",
    "# Loan terms\n",
    "plt.subplot(2, 2, 2) # 1 row, 2 cols, subplot 2\n",
    "n_points = df2.shape[0]\n",
    "max_count = df2['term'].value_counts().max()\n",
    "max_prop = max_count / n_points\n",
    "order = df2['term'].value_counts().index\n",
    "# generate tick mark locations and names\n",
    "tick_props = np.arange(0, max_prop, 0.05)\n",
    "tick_names = ['{:0.2f}'.format(v) for v in tick_props]\n",
    "base_color = sb.color_palette()[0]\n",
    "sb.countplot(data = df2, x = 'term', color = base_color, order = order);\n",
    "plt.yticks(tick_props * n_points, tick_names);\n",
    "plt.xlabel('Loan Term In Months');\n",
    "plt.ylabel('proportion');\n",
    "plt.title('Loans Duration');\n",
    "\n",
    "# Loan status\n",
    "plt.subplot(2, 2, 3) # 1 row, 2 cols, subplot 2\n",
    "base_color = sb.color_palette()[0]\n",
    "order = ['Completed', 'Current', 'FinalPaymentInProgress', 'Chargedoff', 'Defualted', 'Past Due (1-15 days)', 'Past Due (16-30)'\n",
    "         , 'Past Due (61-90 days)', 'Past Due (31-60 days)', 'Past Due (91-120 days)', 'Past Due (>120 days)', 'Cancelled']\n",
    "sb.countplot(data = df2, y = 'loanstatus', color = base_color, order = order);\n",
    "plt.xticks([5000, 10000, 15000, 20000, 25000, 30000, 35000, 40000, 45000, 50000]);\n",
    "plt.ylabel('Loan Status')\n",
    "plt.xlabel('Nuber Of Loans');\n",
    "plt.title('Loan States')\n",
    "\n",
    "plt.tight_layout()"
   ]
  },
  {
   "cell_type": "markdown",
   "metadata": {},
   "source": [
    "Most of the borrowers in the listing are assigned to the income ranges in the middle (25k-49.999k and 50k-74.999k). It is important to note that around 7500 borrowers have no displayed income range. Moreover, people who have no eranings (such as students and unemployed individuals) or low earnings are the least people in the listing. ~>75% of the loans have 36 month cycle (3 years).\n",
    "\n",
    "Finally, The majority of loans in the listing are currently running and not finished yet. One downside we can see here is the amount of chargedoff loans in the listings, around 11992 listings deemed not being able to pay off their debts on the taken loans. Past Due and final payment show low data, hence there not much to indicate here.\n",
    "\n",
    "It seems that most of the borrowers are of mid-ranged incomes, they prefer having mid-term loans of 3 years as it can be seen. More on this as an effect on the borrowers' rates (Rate and APR). It is interesting to see the estimated yield rate for investors on the borrowers' loans."
   ]
  },
  {
   "cell_type": "markdown",
   "metadata": {},
   "source": [
    "**Estimated Effective Yield measure, does the data show encouragement to lenders?**\n",
    "\n",
    "[A nice link here for labels](https://stackoverflow.com/questions/13413112/creating-labels-where-line-appears-in-matplotlib-figure)."
   ]
  },
  {
   "cell_type": "code",
   "execution_count": null,
   "metadata": {
    "scrolled": true
   },
   "outputs": [],
   "source": [
    "dfy = df2.query('estimatedeffectiveyield != 0')"
   ]
  },
  {
   "cell_type": "code",
   "execution_count": null,
   "metadata": {
    "scrolled": false
   },
   "outputs": [],
   "source": [
    "np.warnings.filterwarnings('ignore')\n",
    "\n",
    "plt.figure(figsize = [8, 5])\n",
    "plt.hist(data = dfy, x = 'estimatedeffectiveyield', density = True, bins = 80, histtype = 'bar', alpha = 0.75);\n",
    "plt.xlim(-0.2,0.35);\n",
    "plt.axvline(dfy['estimatedeffectiveyield'].mean(), color='k', linestyle='dashed', linewidth=1.5)\n",
    "plt.text(dfy['estimatedeffectiveyield'].mean()+0.01, 7,'mean = 0.1686')\n",
    "\n",
    "plt.show()"
   ]
  },
  {
   "cell_type": "markdown",
   "metadata": {},
   "source": [
    "A bimodal distribution shows a varying estimated effective yield. A mean return of 16.86% for investors on loans and a popular yield at 0.3 shows some positive signs for investors to invest in loans requested. Outliers at the negative yield are apparent although of much lower densities. \n",
    "\n",
    "This means that either there are loans that have a low borrow rate or that the borrower has late fees, charged off interests or so. In terms of encouragement, investors would appeal to taking stakes in loans providing a positive return. \n",
    "\n",
    "The next plot, though unplaced in its rightful place shows a clearer insight of the Estimated effective yield against the credit grade of the borrowers in the listing."
   ]
  },
  {
   "cell_type": "code",
   "execution_count": null,
   "metadata": {},
   "outputs": [],
   "source": [
    "fig = px.box(dfy, x=\"creditgrade\", y=\"estimatedeffectiveyield\"\n",
    "             , category_orders={'creditgrade' : ['HR', 'E', 'D','C','B','A','AA']}, width = 550, height = 500)\n",
    "fig.update_layout(\n",
    "    title=\"Effective yield vs. Credit Grade\",\n",
    "    xaxis_title=\"Credit Grade\",\n",
    "    yaxis_title=\"Estimated Effective Yield\")\n",
    "\n",
    "fig.show()"
   ]
  },
  {
   "cell_type": "markdown",
   "metadata": {},
   "source": [
    "Borrowers with low credit grade (i.e. HR, E, D and possibly C) are associated with a high yield given the box plots distribution are positioned with greater mean that the better borrowers of higher credit grade. This may be due to the higher interest applied or higher fees on loans for the risky borrrowers. However this represents a narrow chance of return given that the interquartile range narrows down the lower the credit grade, and the presence of many outliers underneath the boxes altogether indicate the more slim opportunity od achieving the estimated yield."
   ]
  },
  {
   "cell_type": "markdown",
   "metadata": {},
   "source": [
    "## Bivariate Exploration"
   ]
  },
  {
   "cell_type": "code",
   "execution_count": null,
   "metadata": {},
   "outputs": [],
   "source": [
    "numeric_vars = ['borrowerrate', 'borrowerapr', 'estimatedeffectiveyield', 'debttoincomeratio', 'statedmonthlyincome'\n",
    "                , 'loanoriginalamount', 'percentfunded', 'prosperscore']\n",
    "\n",
    "plt.figure(figsize = [8, 5])\n",
    "sb.heatmap(df2[numeric_vars].corr(), annot = True, fmt = '.3f',\n",
    "           cmap = 'vlag_r', center = 0)\n",
    "plt.show()"
   ]
  },
  {
   "cell_type": "code",
   "execution_count": null,
   "metadata": {},
   "outputs": [],
   "source": [
    "sb.pairplot(df2, vars = numeric_vars, kind = 'scatter', height = 2);"
   ]
  },
  {
   "cell_type": "code",
   "execution_count": null,
   "metadata": {},
   "outputs": [],
   "source": []
  },
  {
   "cell_type": "code",
   "execution_count": null,
   "metadata": {},
   "outputs": [],
   "source": []
  }
 ],
 "metadata": {
  "kernelspec": {
   "display_name": "Python 3",
   "language": "python",
   "name": "python3"
  },
  "language_info": {
   "codemirror_mode": {
    "name": "ipython",
    "version": 3
   },
   "file_extension": ".py",
   "mimetype": "text/x-python",
   "name": "python",
   "nbconvert_exporter": "python",
   "pygments_lexer": "ipython3",
   "version": "3.7.3"
  }
 },
 "nbformat": 4,
 "nbformat_minor": 2
}
