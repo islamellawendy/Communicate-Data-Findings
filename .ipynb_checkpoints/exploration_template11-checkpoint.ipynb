{
 "cells": [
  {
   "cell_type": "markdown",
   "metadata": {},
   "source": [
    "# Basic Data Wrangling\n",
    "\n",
    "I will first explore my dataset, identify the main variables qualified for my analysis (I can go here back and forth). And do some cleaning for the data alonf the way.\n",
    "\n",
    "Then exploration will take place. [This link](https://www.google.com/url?q=https://docs.google.com/spreadsheet/ccc?key%3D0AllIqIyvWZdadDd5NTlqZ1pBMHlsUjdrOTZHaVBuSlE%26usp%3Dsharing&sa=D&ust=1554486256024000) explains all variables definitions."
   ]
  },
  {
   "cell_type": "code",
   "execution_count": null,
   "metadata": {},
   "outputs": [],
   "source": [
    "import numpy as np\n",
    "import pandas as pd\n",
    "import matplotlib.pyplot as plt\n",
    "import seaborn as sb\n",
    "import plotly.express as px\n",
    "\n",
    "%matplotlib inline"
   ]
  },
  {
   "cell_type": "markdown",
   "metadata": {},
   "source": [
    "[Set off the warning in Pandas](https://www.dataquest.io/blog/settingwithcopywarning/)."
   ]
  },
  {
   "cell_type": "code",
   "execution_count": null,
   "metadata": {},
   "outputs": [],
   "source": [
    "# Set off the warning\n",
    "pd.set_option('mode.chained_assignment', None)"
   ]
  },
  {
   "cell_type": "code",
   "execution_count": null,
   "metadata": {},
   "outputs": [],
   "source": [
    "# load in the dataset into a pandas dataframe\n",
    "df = pd.read_csv('prosperLoanData.csv')"
   ]
  },
  {
   "cell_type": "code",
   "execution_count": null,
   "metadata": {},
   "outputs": [],
   "source": [
    "df.head()"
   ]
  },
  {
   "cell_type": "code",
   "execution_count": null,
   "metadata": {
    "scrolled": true
   },
   "outputs": [],
   "source": [
    "df.info()"
   ]
  },
  {
   "cell_type": "markdown",
   "metadata": {},
   "source": [
    "I will pull a set of variables here for analysis (With the listing key only acting as a primary key). According to the pulled information about the dataset also, these variables will be fixed up and cleaned in my wrangling process."
   ]
  },
  {
   "cell_type": "code",
   "execution_count": null,
   "metadata": {},
   "outputs": [],
   "source": [
    "# Pulling my main data\n",
    "df2 = df[['ListingKey','Term', 'LoanStatus', 'CreditGrade','ClosedDate','BorrowerAPR','BorrowerRate', 'EstimatedEffectiveYield'\n",
    "          ,'ProsperRating (Alpha)', 'ProsperScore', 'ListingCategory (numeric)','BorrowerState','EmploymentStatus'\n",
    "          , 'Occupation','IsBorrowerHomeowner', 'DebtToIncomeRatio','IncomeRange', 'StatedMonthlyIncome', 'LoanOriginalAmount'\n",
    "          , 'LoanOriginationDate','MonthlyLoanPayment','PercentFunded', 'Investors']]"
   ]
  },
  {
   "cell_type": "markdown",
   "metadata": {},
   "source": [
    "**Columns should be in lowercase.**"
   ]
  },
  {
   "cell_type": "code",
   "execution_count": null,
   "metadata": {
    "scrolled": true
   },
   "outputs": [],
   "source": [
    "df2.columns = map(str.lower, df2.columns)"
   ]
  },
  {
   "cell_type": "markdown",
   "metadata": {},
   "source": [
    "**Two variables can be merged are the 'creditgrade' and the 'prosperrating (alpha)' for anlaysis purpose, and also sub any remaining null with 'OFF' as a value (These are listings with no running loan request).**\n",
    "\n",
    "I will replace the missing values with 'NC' as they are completed loans and as the same as predecessor loans which were graded that way."
   ]
  },
  {
   "cell_type": "code",
   "execution_count": null,
   "metadata": {},
   "outputs": [],
   "source": [
    "# Merge the prosperrating (alpha) into the creitgrade\n",
    "df2.creditgrade.fillna(df2['prosperrating (alpha)'], inplace=True)\n",
    "# Handle remaining null as OFF\n",
    "df2['creditgrade'] = df2.creditgrade.fillna('NC')\n",
    "#Drop the prosperrating (alpha) column, we do not need it.\n",
    "df2 = df2.drop(['prosperrating (alpha)'], axis = 1)"
   ]
  },
  {
   "cell_type": "markdown",
   "metadata": {},
   "source": [
    "**For the 'incomerange' the 'Not employed' variable can be subbed by 0.**"
   ]
  },
  {
   "cell_type": "code",
   "execution_count": null,
   "metadata": {},
   "outputs": [],
   "source": [
    "df2['incomerange'] = df2['incomerange'].replace('Not employed', '$0')"
   ]
  },
  {
   "cell_type": "markdown",
   "metadata": {},
   "source": [
    "**The 'listingcategory (numeric)' needs to be subbed by the corresponding listing explained in the dictionary sheet. Also renaming the column to get rid of symbols and spaces.**"
   ]
  },
  {
   "cell_type": "code",
   "execution_count": null,
   "metadata": {},
   "outputs": [],
   "source": [
    "# Define rhe numbers as a string\n",
    "df2['listingcategory (numeric)'] = df2['listingcategory (numeric)'].astype(str)\n",
    "# use .replace and replace each variable\n",
    "df2['listingcategory (numeric)'] = df2['listingcategory (numeric)'].replace({'0' : 'Not Available', '1' : 'Debt Consolidation', '2' : 'Home Improvement'\n",
    "                                                                             , '3' : 'Business', '4' : 'Personal Loan', '5' : 'Student Use'\n",
    "                                                                             , '6' : 'Auto', '7' : 'Other', '8' : 'Baby&Adoption'\n",
    "                                                                             , '9' : 'Boat', '10' : 'Cosmetic Procedure', '11' : 'Engagement Ring'\n",
    "                                                                             , '12' : 'Green Loans', '13' : 'Household Expenses', '14' : 'Large Purchases'\n",
    "                                                                             , '15' : 'Medical/Dental', '16' : 'Motorcycle', '17' : 'RV'\n",
    "                                                                             , '18' : 'Taxes', '19' : 'Vacation', '20' : 'Wedding Loans'})\n"
   ]
  },
  {
   "cell_type": "markdown",
   "metadata": {},
   "source": [
    "**Rename the columns lisitngcategory (numeric) and prosperrating (numeric) to remove spaces and parenthesis.**"
   ]
  },
  {
   "cell_type": "code",
   "execution_count": null,
   "metadata": {},
   "outputs": [],
   "source": [
    "df2.rename(columns = {\"listingcategory (numeric)\" : \"listingcat\"}, inplace = True)"
   ]
  },
  {
   "cell_type": "markdown",
   "metadata": {},
   "source": [
    "**Change the type of any date into timestamp to be easier for analysis.**"
   ]
  },
  {
   "cell_type": "code",
   "execution_count": null,
   "metadata": {},
   "outputs": [],
   "source": [
    "df2.closeddate =  pd.to_datetime(df2.closeddate)\n",
    "df2.loanoriginationdate = pd.to_datetime(df2.loanoriginationdate)"
   ]
  },
  {
   "cell_type": "markdown",
   "metadata": {},
   "source": [
    "**Fill the remianing missing values in 'borrowerapr' by the mean of the column to make ease of use of the data for analysis, that way the level of accuracy will not be burdened much and will have ourselves the vast of the data to play around with.**"
   ]
  },
  {
   "cell_type": "code",
   "execution_count": null,
   "metadata": {},
   "outputs": [],
   "source": [
    "df2['borrowerapr'] = df2.borrowerapr.fillna(df2['borrowerapr'].mean())"
   ]
  },
  {
   "cell_type": "markdown",
   "metadata": {},
   "source": [
    "**State names instead of abbreviations as the abbreviations are not easy for reading through. [Nice way of mapping here](https://stackoverflow.com/questions/20250771/remap-values-in-pandas-column-with-a-dict).**"
   ]
  },
  {
   "cell_type": "code",
   "execution_count": null,
   "metadata": {},
   "outputs": [],
   "source": [
    "us_state_abbrev = {'AL': 'Alabama', 'AK': 'Alaska', 'AZ': 'Arizona', 'AR': 'Arkansas', 'CA': 'California', 'CO': 'Colorado'\n",
    "                   , 'CT': 'Connecticut', 'DE': 'Delaware', 'FL': 'Florida', 'GA': 'Georgia', 'HI': 'Hawaii', 'ID': 'Idaho'\n",
    "                   , 'IL': 'Illinois', 'IN': 'Indiana', 'IA': 'Iowa', 'KS': 'Kansas', 'KY': 'Kentucky', 'LA': 'Louisiana'\n",
    "                   , 'ME': 'Maine', 'MD': 'Maryland', 'MA': 'Massachusetts', 'MI': 'Michigan', 'MN': 'Minnesota'\n",
    "                   , 'MS': 'Mississippi', 'MO': 'Missouri', 'MT': 'Montana', 'NE': 'Nebraska', 'NV': 'Nevada'\n",
    "                   , 'NH': 'New Hampshire', 'NJ': 'New Jersey', 'NM': 'New Mexico', 'NY': 'New York'\n",
    "                   , 'NC': 'North Carolina', 'ND': 'North Dakota', 'OH': 'Ohio', 'OK': 'Oklahoma', 'OR': 'Oregon'\n",
    "                   , 'PA': 'Pennsylvania', 'RI': 'Rhode Island', 'SC': 'South Carolina', 'SD': 'South Dakota'\n",
    "                   , 'TN': 'Tennessee', 'TX': 'Texas', 'UT': 'Utah', 'VT': 'Vermont', 'VA': 'Virginia', 'WA': 'Washington'\n",
    "                   , 'WV': 'West Virginia', 'WI': 'Wisconsin', 'WY': 'Wyoming'}\n",
    "\n",
    "df2 = df2.replace({'borrowerstate' : us_state_abbrev})\n",
    "\n",
    "df2.borrowerstate = df2.borrowerstate.fillna('Not Stated')"
   ]
  },
  {
   "cell_type": "markdown",
   "metadata": {},
   "source": [
    "**Change the necessary variables to category.**"
   ]
  },
  {
   "cell_type": "code",
   "execution_count": null,
   "metadata": {},
   "outputs": [],
   "source": [
    "# astype categorial\n",
    "df2.creditgrade = df2.creditgrade.astype('category')\n",
    "df2.loanstatus = df2.loanstatus.astype('category')\n",
    "df2.incomerange = df2.incomerange.astype('category')\n",
    "df2.listingcat = df2.listingcat.astype('category')"
   ]
  },
  {
   "cell_type": "code",
   "execution_count": null,
   "metadata": {},
   "outputs": [],
   "source": [
    "pd.set_option('display.max_columns', 500)"
   ]
  },
  {
   "cell_type": "code",
   "execution_count": null,
   "metadata": {},
   "outputs": [],
   "source": [
    "df2.head()"
   ]
  },
  {
   "cell_type": "code",
   "execution_count": null,
   "metadata": {},
   "outputs": [],
   "source": [
    "df2.info()"
   ]
  },
  {
   "cell_type": "markdown",
   "metadata": {},
   "source": [
    "# Dataset Structure\n",
    "## Main features of the dataset\n",
    "Originated from [prosper.com's](https://www.prosper.com/?__cf_chl_jschl_tk__=e899926cde20d85215ef8a493acdf9e611aacf3b-1580555999-0-AWb3rCeHooyvygS0TzuNV_Qtlv033CU6qKgwclNxd3bQqtYShRdd65iiB0cACnN8U9ZPY86BoQyQ-joRvagwjlpEgnc7bC-RQy-lyJnHDPbu-ms-XQhRlPblVmWxRAIEtEfUfY5jDq3ptwIpMKKFtNoumhR7jHJIvOsY-jm7Xc4Sii2tkfBbnPK25kaMiiAQsxv_w40CLUIXvt6PH9K0c0MIWmvQpBpTzFRkYYgdbEgf_H3VAieQZh8YVZhLbn06QzupGbsg4g6rZjInNcssBhQyciZqvFd4mCpw_BIdOiTrasQMP9uKm2HZFEHtsZR-6g) data, this dataset contains 113,937 loan data listings. Variables are either numeric or categorial in this dataset. Not all the variables are present, I extracted the main ones of interest to use in my analysis where visualizations are best to describe the good and bad numbers.\n",
    "## Main Interests and Motivation\n",
    "I am interested to see a number of different aspects that foresees the borrowers' status, income range and so against loans requested. This can be tackled by a series of questions answered by plots of univariate, bivatiate and multivariate models.\n",
    "\n",
    "In my opinion, borrowing rate varies over the performance of the borrower, and investors are very encouraged to sponsor loans due to the high ROI given good borrowers' state. So it is up to my analysis to conduct questions as previously stated.\n",
    "\n",
    "I am using seaborn matplotlib and plotly express to present my motivation."
   ]
  },
  {
   "cell_type": "markdown",
   "metadata": {},
   "source": [
    "# Analysis and Visualization\n",
    "## Univariate Exploration\n",
    "I will start my analysis by visualizing some variables to set some initial insights about my datasets. I am looking at each variable solely. Some general characteristics about the loans in the listing and their borrowers would fare informative. Like the loan amounts requested and the income range of the borrowers against the loans' status and their duration. A final lookout on the estimated effective yield would prove beneficial to come up with an initial thought, Does the yield provide a positive outcome to the investors in the loan? The posing questions and their analyses down here is a good investigation to start with ;)."
   ]
  },
  {
   "cell_type": "markdown",
   "metadata": {},
   "source": [
    "**What are the Loan amounts mostly requested by the borrowers?**"
   ]
  },
  {
   "cell_type": "code",
   "execution_count": null,
   "metadata": {},
   "outputs": [],
   "source": [
    "# Set a reasonable bin\n",
    "bins = np.arange(0,df2['loanoriginalamount'].max()+1000, 1000)\n",
    "# Plot the data\n",
    "plt.figure(figsize = [8, 5])\n",
    "plt.hist(data = df2, x = 'loanoriginalamount', bins = bins);\n",
    "plt.xlabel('Loan Amount $');\n",
    "plt.ylabel('Number of Loans')\n",
    "plt.xticks([0, 5000, 10000, 15000, 20000, 25000, 30000, 35000], ['0', '5k', '10k', '15k', '20k', '25k', '30k', '35k']);\n",
    "plt.show();"
   ]
  },
  {
   "cell_type": "markdown",
   "metadata": {},
   "source": [
    "The plot shows a bimodal view. Most loan amounts requested is the $5,000 showing slightly more than 16,000 request in count. \n",
    "\n",
    "Spikes of  values can be seen along the histogram, with the second most requests for loan amounts slightly more than the $15,000 mark. Now in order to understand more if borrowers are forking up loans that are relatively 'high' or 'low' I will need to look at another 3 variables, the loan terms, income range and the loan states."
   ]
  },
  {
   "cell_type": "markdown",
   "metadata": {},
   "source": [
    "**How are the borrowers fare in terms of their income range, duration of loans and their loans status?**"
   ]
  },
  {
   "cell_type": "code",
   "execution_count": null,
   "metadata": {},
   "outputs": [],
   "source": [
    "plt.figure(figsize = [17, 10])\n",
    "\n",
    "# Income range spread\n",
    "plt.subplot(2, 2, 1) # 1 row, 2 cols, subplot 1\n",
    "base_color = sb.color_palette()[0]\n",
    "order = ['$0', '$1-24,999', '$25,000-49,999', '$50,000-74,999', '$75,000-99,999', '$100,000+', 'Not displayed']\n",
    "sb.countplot(data = df2, x = 'incomerange', color = base_color, order = order);\n",
    "plt.xticks(rotation = 25);\n",
    "plt.xlabel('Income');\n",
    "plt.ylabel('Number Of Individuals');\n",
    "plt.title('Income Range');\n",
    "\n",
    "# Loan terms\n",
    "plt.subplot(2, 2, 2) # 1 row, 2 cols, subplot 2\n",
    "n_points = df2.shape[0]\n",
    "max_count = df2['term'].value_counts().max()\n",
    "max_prop = max_count / n_points\n",
    "order = df2['term'].value_counts().index\n",
    "# generate tick mark locations and names\n",
    "tick_props = np.arange(0, max_prop, 0.05)\n",
    "tick_names = ['{:0.2f}'.format(v) for v in tick_props]\n",
    "base_color = sb.color_palette()[0]\n",
    "sb.countplot(data = df2, x = 'term', color = base_color, order = order);\n",
    "plt.yticks(tick_props * n_points, tick_names);\n",
    "plt.xlabel('Loan Term In Months');\n",
    "plt.ylabel('proportion');\n",
    "plt.title('Loans Duration');\n",
    "\n",
    "# Loan status\n",
    "plt.subplot(2, 2, 3) # 1 row, 2 cols, subplot 2\n",
    "base_color = sb.color_palette()[0]\n",
    "order = ['Completed', 'Current', 'FinalPaymentInProgress', 'Chargedoff', 'Defualted', 'Past Due (1-15 days)', 'Past Due (16-30)'\n",
    "         , 'Past Due (61-90 days)', 'Past Due (31-60 days)', 'Past Due (91-120 days)', 'Past Due (>120 days)', 'Cancelled']\n",
    "sb.countplot(data = df2, y = 'loanstatus', color = base_color, order = order);\n",
    "plt.xticks([5000, 10000, 15000, 20000, 25000, 30000, 35000, 40000, 45000, 50000]);\n",
    "plt.ylabel('Loan Status')\n",
    "plt.xlabel('Nuber Of Loans');\n",
    "plt.title('Loan States')\n",
    "\n",
    "plt.tight_layout()"
   ]
  },
  {
   "cell_type": "markdown",
   "metadata": {},
   "source": [
    "Most of the borrowers in the listing are assigned to the income ranges in the middle (25k-49.999k and 50k-74.999k). It is important to note that around 7500 borrowers have no displayed income range. Moreover, people who have no eranings (such as students and unemployed individuals) or low earnings are the least people in the listing. ~>75% of the loans have 36 month cycle (3 years).\n",
    "\n",
    "Finally, The majority of loans in the listing are currently running and not finished yet. One downside we can see here is the amount of chargedoff loans in the listings, around 11992 listings deemed not being able to pay off their debts on the taken loans. Past Due and final payment show low data, hence there not much to indicate here.\n",
    "\n",
    "It seems that most of the borrowers are of mid-ranged incomes, they prefer having mid-term loans of 3 years as it can be seen. More on this as an effect on the borrowers' rates (Rate and APR). It is interesting to see the estimated yield rate for investors on the borrowers' loans."
   ]
  },
  {
   "cell_type": "markdown",
   "metadata": {},
   "source": [
    "**Estimated Effective Yield measure, does the data show encouragement to lenders?**\n",
    "\n",
    "[A nice link here for labels](https://stackoverflow.com/questions/13413112/creating-labels-where-line-appears-in-matplotlib-figure)."
   ]
  },
  {
   "cell_type": "code",
   "execution_count": null,
   "metadata": {
    "scrolled": true
   },
   "outputs": [],
   "source": [
    "dfy = df2.query('estimatedeffectiveyield != 0')"
   ]
  },
  {
   "cell_type": "code",
   "execution_count": null,
   "metadata": {
    "scrolled": true
   },
   "outputs": [],
   "source": [
    "plt.figure(figsize = [8, 5])\n",
    "plt.hist(data = dfy, x = 'estimatedeffectiveyield', density = True, bins = 80, histtype = 'bar', alpha = 0.75);\n",
    "plt.xlim(-0.2,0.35);\n",
    "plt.axvline(dfy['estimatedeffectiveyield'].mean(), color='k', linestyle='dashed', linewidth=1.5)\n",
    "plt.text(dfy['estimatedeffectiveyield'].mean()+0.01, 7,'mean = 0.1686')\n",
    "\n",
    "plt.show()"
   ]
  },
  {
   "cell_type": "markdown",
   "metadata": {},
   "source": [
    "A bimodal distribution shows a varying estimated effective yield. A mean return of 16.86% for investors on loans and a popular yield at 0.3 shows some positive signs for investors to invest in loans requested. Outliers at the negative yield are apparent although of much lower densities. \n",
    "\n",
    "This means that either there are loans that have a low borrow rate or that the borrower has late fees, charged off interests or so. In terms of encouragement, investors would appeal to taking stakes in loans providing a positive return. \n",
    "\n",
    "The next plot, though unplaced in its rightful place shows a clearer insight of the Estimated effective yield against the credit grade of the borrowers in the listing."
   ]
  },
  {
   "cell_type": "code",
   "execution_count": null,
   "metadata": {},
   "outputs": [],
   "source": [
    "fig = px.box(dfy, x=\"creditgrade\", y=\"estimatedeffectiveyield\"\n",
    "             , category_orders={'creditgrade' : ['HR', 'E', 'D','C','B','A','AA']}, width = 550, height = 500)\n",
    "fig.update_layout(\n",
    "    title=\"Effective yield vs. Credit Grade\",\n",
    "    xaxis_title=\"Credit Grade\",\n",
    "    yaxis_title=\"Estimated Effective Yield\")\n",
    "\n",
    "fig.show()"
   ]
  },
  {
   "cell_type": "markdown",
   "metadata": {},
   "source": [
    "Borrowers with low credit grade (i.e. HR, E, D and possibly C) are associated with a high yield given the box plots distribution are positioned with greater mean that the better borrowers of higher credit grade. This may be due to the higher interest applied or higher fees on loans for the risky borrrowers. However this represents a narrow chance of return given that the interquartile range narrows down the lower the credit grade, and the presence of many outliers underneath the boxes altogether indicate the more slim opportunity od achieving the estimated yield."
   ]
  },
  {
   "cell_type": "markdown",
   "metadata": {},
   "source": [
    "## Bivariate Exploration"
   ]
  },
  {
   "cell_type": "code",
   "execution_count": null,
   "metadata": {},
   "outputs": [],
   "source": [
    "numeric_vars = ['borrowerrate', 'borrowerapr', 'estimatedeffectiveyield', 'debttoincomeratio', 'statedmonthlyincome'\n",
    "                , 'loanoriginalamount', 'percentfunded']\n",
    "\n",
    "plt.figure(figsize = [8, 5])\n",
    "sb.heatmap(df2[numeric_vars].corr(), annot = True, fmt = '.3f',\n",
    "           cmap = 'vlag_r', center = 0)\n",
    "plt.show()"
   ]
  },
  {
   "cell_type": "code",
   "execution_count": null,
   "metadata": {},
   "outputs": [],
   "source": [
    "sb.pairplot(df2, vars = numeric_vars, kind = 'scatter', height = 2);"
   ]
  },
  {
   "cell_type": "code",
   "execution_count": null,
   "metadata": {},
   "outputs": [],
   "source": []
  },
  {
   "cell_type": "code",
   "execution_count": null,
   "metadata": {},
   "outputs": [],
   "source": []
  }
 ],
 "metadata": {
  "kernelspec": {
   "display_name": "Python 3",
   "language": "python",
   "name": "python3"
  },
  "language_info": {
   "codemirror_mode": {
    "name": "ipython",
    "version": 3
   },
   "file_extension": ".py",
   "mimetype": "text/x-python",
   "name": "python",
   "nbconvert_exporter": "python",
   "pygments_lexer": "ipython3",
   "version": "3.7.3"
  }
 },
 "nbformat": 4,
 "nbformat_minor": 2
}
