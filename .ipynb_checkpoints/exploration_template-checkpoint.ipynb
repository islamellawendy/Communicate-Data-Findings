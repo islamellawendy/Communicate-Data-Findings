{
 "cells": [
  {
   "cell_type": "markdown",
   "metadata": {},
   "source": [
    "# Basic Data Wrangling\n",
    "\n",
    "I will first explore my dataset, identify the main variables qualified for my analysis (I can go here back and forth). And do some cleaning for the data alonf the way.\n",
    "\n",
    "Then exploration will take place. [This link](https://www.google.com/url?q=https://docs.google.com/spreadsheet/ccc?key%3D0AllIqIyvWZdadDd5NTlqZ1pBMHlsUjdrOTZHaVBuSlE%26usp%3Dsharing&sa=D&ust=1554486256024000) explains all variables definitions."
   ]
  },
  {
   "cell_type": "code",
   "execution_count": 1,
   "metadata": {},
   "outputs": [],
   "source": [
    "import numpy as np\n",
    "import pandas as pd\n",
    "import matplotlib.pyplot as plt\n",
    "import seaborn as sb\n",
    "import plotly.express as px\n",
    "\n",
    "%matplotlib inline"
   ]
  },
  {
   "cell_type": "markdown",
   "metadata": {},
   "source": [
    "[Set off the warning in Pandas](https://www.dataquest.io/blog/settingwithcopywarning/)."
   ]
  },
  {
   "cell_type": "code",
   "execution_count": 2,
   "metadata": {},
   "outputs": [],
   "source": [
    "# Set off the warning\n",
    "pd.set_option('mode.chained_assignment', None)"
   ]
  },
  {
   "cell_type": "code",
   "execution_count": 3,
   "metadata": {},
   "outputs": [],
   "source": [
    "# load in the dataset into a pandas dataframe\n",
    "df = pd.read_csv('prosperLoanData.csv')"
   ]
  },
  {
   "cell_type": "code",
   "execution_count": 4,
   "metadata": {},
   "outputs": [
    {
     "data": {
      "text/html": [
       "<div>\n",
       "<style scoped>\n",
       "    .dataframe tbody tr th:only-of-type {\n",
       "        vertical-align: middle;\n",
       "    }\n",
       "\n",
       "    .dataframe tbody tr th {\n",
       "        vertical-align: top;\n",
       "    }\n",
       "\n",
       "    .dataframe thead th {\n",
       "        text-align: right;\n",
       "    }\n",
       "</style>\n",
       "<table border=\"1\" class=\"dataframe\">\n",
       "  <thead>\n",
       "    <tr style=\"text-align: right;\">\n",
       "      <th></th>\n",
       "      <th>ListingKey</th>\n",
       "      <th>ListingNumber</th>\n",
       "      <th>ListingCreationDate</th>\n",
       "      <th>CreditGrade</th>\n",
       "      <th>Term</th>\n",
       "      <th>LoanStatus</th>\n",
       "      <th>ClosedDate</th>\n",
       "      <th>BorrowerAPR</th>\n",
       "      <th>BorrowerRate</th>\n",
       "      <th>LenderYield</th>\n",
       "      <th>...</th>\n",
       "      <th>LP_ServiceFees</th>\n",
       "      <th>LP_CollectionFees</th>\n",
       "      <th>LP_GrossPrincipalLoss</th>\n",
       "      <th>LP_NetPrincipalLoss</th>\n",
       "      <th>LP_NonPrincipalRecoverypayments</th>\n",
       "      <th>PercentFunded</th>\n",
       "      <th>Recommendations</th>\n",
       "      <th>InvestmentFromFriendsCount</th>\n",
       "      <th>InvestmentFromFriendsAmount</th>\n",
       "      <th>Investors</th>\n",
       "    </tr>\n",
       "  </thead>\n",
       "  <tbody>\n",
       "    <tr>\n",
       "      <th>0</th>\n",
       "      <td>1021339766868145413AB3B</td>\n",
       "      <td>193129</td>\n",
       "      <td>2007-08-26 19:09:29.263000000</td>\n",
       "      <td>C</td>\n",
       "      <td>36</td>\n",
       "      <td>Completed</td>\n",
       "      <td>2009-08-14 00:00:00</td>\n",
       "      <td>0.16516</td>\n",
       "      <td>0.1580</td>\n",
       "      <td>0.1380</td>\n",
       "      <td>...</td>\n",
       "      <td>-133.18</td>\n",
       "      <td>0.0</td>\n",
       "      <td>0.0</td>\n",
       "      <td>0.0</td>\n",
       "      <td>0.0</td>\n",
       "      <td>1.0</td>\n",
       "      <td>0</td>\n",
       "      <td>0</td>\n",
       "      <td>0.0</td>\n",
       "      <td>258</td>\n",
       "    </tr>\n",
       "    <tr>\n",
       "      <th>1</th>\n",
       "      <td>10273602499503308B223C1</td>\n",
       "      <td>1209647</td>\n",
       "      <td>2014-02-27 08:28:07.900000000</td>\n",
       "      <td>NaN</td>\n",
       "      <td>36</td>\n",
       "      <td>Current</td>\n",
       "      <td>NaN</td>\n",
       "      <td>0.12016</td>\n",
       "      <td>0.0920</td>\n",
       "      <td>0.0820</td>\n",
       "      <td>...</td>\n",
       "      <td>0.00</td>\n",
       "      <td>0.0</td>\n",
       "      <td>0.0</td>\n",
       "      <td>0.0</td>\n",
       "      <td>0.0</td>\n",
       "      <td>1.0</td>\n",
       "      <td>0</td>\n",
       "      <td>0</td>\n",
       "      <td>0.0</td>\n",
       "      <td>1</td>\n",
       "    </tr>\n",
       "    <tr>\n",
       "      <th>2</th>\n",
       "      <td>0EE9337825851032864889A</td>\n",
       "      <td>81716</td>\n",
       "      <td>2007-01-05 15:00:47.090000000</td>\n",
       "      <td>HR</td>\n",
       "      <td>36</td>\n",
       "      <td>Completed</td>\n",
       "      <td>2009-12-17 00:00:00</td>\n",
       "      <td>0.28269</td>\n",
       "      <td>0.2750</td>\n",
       "      <td>0.2400</td>\n",
       "      <td>...</td>\n",
       "      <td>-24.20</td>\n",
       "      <td>0.0</td>\n",
       "      <td>0.0</td>\n",
       "      <td>0.0</td>\n",
       "      <td>0.0</td>\n",
       "      <td>1.0</td>\n",
       "      <td>0</td>\n",
       "      <td>0</td>\n",
       "      <td>0.0</td>\n",
       "      <td>41</td>\n",
       "    </tr>\n",
       "    <tr>\n",
       "      <th>3</th>\n",
       "      <td>0EF5356002482715299901A</td>\n",
       "      <td>658116</td>\n",
       "      <td>2012-10-22 11:02:35.010000000</td>\n",
       "      <td>NaN</td>\n",
       "      <td>36</td>\n",
       "      <td>Current</td>\n",
       "      <td>NaN</td>\n",
       "      <td>0.12528</td>\n",
       "      <td>0.0974</td>\n",
       "      <td>0.0874</td>\n",
       "      <td>...</td>\n",
       "      <td>-108.01</td>\n",
       "      <td>0.0</td>\n",
       "      <td>0.0</td>\n",
       "      <td>0.0</td>\n",
       "      <td>0.0</td>\n",
       "      <td>1.0</td>\n",
       "      <td>0</td>\n",
       "      <td>0</td>\n",
       "      <td>0.0</td>\n",
       "      <td>158</td>\n",
       "    </tr>\n",
       "    <tr>\n",
       "      <th>4</th>\n",
       "      <td>0F023589499656230C5E3E2</td>\n",
       "      <td>909464</td>\n",
       "      <td>2013-09-14 18:38:39.097000000</td>\n",
       "      <td>NaN</td>\n",
       "      <td>36</td>\n",
       "      <td>Current</td>\n",
       "      <td>NaN</td>\n",
       "      <td>0.24614</td>\n",
       "      <td>0.2085</td>\n",
       "      <td>0.1985</td>\n",
       "      <td>...</td>\n",
       "      <td>-60.27</td>\n",
       "      <td>0.0</td>\n",
       "      <td>0.0</td>\n",
       "      <td>0.0</td>\n",
       "      <td>0.0</td>\n",
       "      <td>1.0</td>\n",
       "      <td>0</td>\n",
       "      <td>0</td>\n",
       "      <td>0.0</td>\n",
       "      <td>20</td>\n",
       "    </tr>\n",
       "  </tbody>\n",
       "</table>\n",
       "<p>5 rows × 81 columns</p>\n",
       "</div>"
      ],
      "text/plain": [
       "                ListingKey  ListingNumber            ListingCreationDate  \\\n",
       "0  1021339766868145413AB3B         193129  2007-08-26 19:09:29.263000000   \n",
       "1  10273602499503308B223C1        1209647  2014-02-27 08:28:07.900000000   \n",
       "2  0EE9337825851032864889A          81716  2007-01-05 15:00:47.090000000   \n",
       "3  0EF5356002482715299901A         658116  2012-10-22 11:02:35.010000000   \n",
       "4  0F023589499656230C5E3E2         909464  2013-09-14 18:38:39.097000000   \n",
       "\n",
       "  CreditGrade  Term LoanStatus           ClosedDate  BorrowerAPR  \\\n",
       "0           C    36  Completed  2009-08-14 00:00:00      0.16516   \n",
       "1         NaN    36    Current                  NaN      0.12016   \n",
       "2          HR    36  Completed  2009-12-17 00:00:00      0.28269   \n",
       "3         NaN    36    Current                  NaN      0.12528   \n",
       "4         NaN    36    Current                  NaN      0.24614   \n",
       "\n",
       "   BorrowerRate  LenderYield  ...  LP_ServiceFees  LP_CollectionFees  \\\n",
       "0        0.1580       0.1380  ...         -133.18                0.0   \n",
       "1        0.0920       0.0820  ...            0.00                0.0   \n",
       "2        0.2750       0.2400  ...          -24.20                0.0   \n",
       "3        0.0974       0.0874  ...         -108.01                0.0   \n",
       "4        0.2085       0.1985  ...          -60.27                0.0   \n",
       "\n",
       "   LP_GrossPrincipalLoss  LP_NetPrincipalLoss LP_NonPrincipalRecoverypayments  \\\n",
       "0                    0.0                  0.0                             0.0   \n",
       "1                    0.0                  0.0                             0.0   \n",
       "2                    0.0                  0.0                             0.0   \n",
       "3                    0.0                  0.0                             0.0   \n",
       "4                    0.0                  0.0                             0.0   \n",
       "\n",
       "   PercentFunded  Recommendations InvestmentFromFriendsCount  \\\n",
       "0            1.0                0                          0   \n",
       "1            1.0                0                          0   \n",
       "2            1.0                0                          0   \n",
       "3            1.0                0                          0   \n",
       "4            1.0                0                          0   \n",
       "\n",
       "  InvestmentFromFriendsAmount Investors  \n",
       "0                         0.0       258  \n",
       "1                         0.0         1  \n",
       "2                         0.0        41  \n",
       "3                         0.0       158  \n",
       "4                         0.0        20  \n",
       "\n",
       "[5 rows x 81 columns]"
      ]
     },
     "execution_count": 4,
     "metadata": {},
     "output_type": "execute_result"
    }
   ],
   "source": [
    "df.head()"
   ]
  },
  {
   "cell_type": "code",
   "execution_count": 5,
   "metadata": {
    "scrolled": true
   },
   "outputs": [
    {
     "name": "stdout",
     "output_type": "stream",
     "text": [
      "<class 'pandas.core.frame.DataFrame'>\n",
      "RangeIndex: 113937 entries, 0 to 113936\n",
      "Data columns (total 81 columns):\n",
      "ListingKey                             113937 non-null object\n",
      "ListingNumber                          113937 non-null int64\n",
      "ListingCreationDate                    113937 non-null object\n",
      "CreditGrade                            28953 non-null object\n",
      "Term                                   113937 non-null int64\n",
      "LoanStatus                             113937 non-null object\n",
      "ClosedDate                             55089 non-null object\n",
      "BorrowerAPR                            113912 non-null float64\n",
      "BorrowerRate                           113937 non-null float64\n",
      "LenderYield                            113937 non-null float64\n",
      "EstimatedEffectiveYield                84853 non-null float64\n",
      "EstimatedLoss                          84853 non-null float64\n",
      "EstimatedReturn                        84853 non-null float64\n",
      "ProsperRating (numeric)                84853 non-null float64\n",
      "ProsperRating (Alpha)                  84853 non-null object\n",
      "ProsperScore                           84853 non-null float64\n",
      "ListingCategory (numeric)              113937 non-null int64\n",
      "BorrowerState                          108422 non-null object\n",
      "Occupation                             110349 non-null object\n",
      "EmploymentStatus                       111682 non-null object\n",
      "EmploymentStatusDuration               106312 non-null float64\n",
      "IsBorrowerHomeowner                    113937 non-null bool\n",
      "CurrentlyInGroup                       113937 non-null bool\n",
      "GroupKey                               13341 non-null object\n",
      "DateCreditPulled                       113937 non-null object\n",
      "CreditScoreRangeLower                  113346 non-null float64\n",
      "CreditScoreRangeUpper                  113346 non-null float64\n",
      "FirstRecordedCreditLine                113240 non-null object\n",
      "CurrentCreditLines                     106333 non-null float64\n",
      "OpenCreditLines                        106333 non-null float64\n",
      "TotalCreditLinespast7years             113240 non-null float64\n",
      "OpenRevolvingAccounts                  113937 non-null int64\n",
      "OpenRevolvingMonthlyPayment            113937 non-null float64\n",
      "InquiriesLast6Months                   113240 non-null float64\n",
      "TotalInquiries                         112778 non-null float64\n",
      "CurrentDelinquencies                   113240 non-null float64\n",
      "AmountDelinquent                       106315 non-null float64\n",
      "DelinquenciesLast7Years                112947 non-null float64\n",
      "PublicRecordsLast10Years               113240 non-null float64\n",
      "PublicRecordsLast12Months              106333 non-null float64\n",
      "RevolvingCreditBalance                 106333 non-null float64\n",
      "BankcardUtilization                    106333 non-null float64\n",
      "AvailableBankcardCredit                106393 non-null float64\n",
      "TotalTrades                            106393 non-null float64\n",
      "TradesNeverDelinquent (percentage)     106393 non-null float64\n",
      "TradesOpenedLast6Months                106393 non-null float64\n",
      "DebtToIncomeRatio                      105383 non-null float64\n",
      "IncomeRange                            113937 non-null object\n",
      "IncomeVerifiable                       113937 non-null bool\n",
      "StatedMonthlyIncome                    113937 non-null float64\n",
      "LoanKey                                113937 non-null object\n",
      "TotalProsperLoans                      22085 non-null float64\n",
      "TotalProsperPaymentsBilled             22085 non-null float64\n",
      "OnTimeProsperPayments                  22085 non-null float64\n",
      "ProsperPaymentsLessThanOneMonthLate    22085 non-null float64\n",
      "ProsperPaymentsOneMonthPlusLate        22085 non-null float64\n",
      "ProsperPrincipalBorrowed               22085 non-null float64\n",
      "ProsperPrincipalOutstanding            22085 non-null float64\n",
      "ScorexChangeAtTimeOfListing            18928 non-null float64\n",
      "LoanCurrentDaysDelinquent              113937 non-null int64\n",
      "LoanFirstDefaultedCycleNumber          16952 non-null float64\n",
      "LoanMonthsSinceOrigination             113937 non-null int64\n",
      "LoanNumber                             113937 non-null int64\n",
      "LoanOriginalAmount                     113937 non-null int64\n",
      "LoanOriginationDate                    113937 non-null object\n",
      "LoanOriginationQuarter                 113937 non-null object\n",
      "MemberKey                              113937 non-null object\n",
      "MonthlyLoanPayment                     113937 non-null float64\n",
      "LP_CustomerPayments                    113937 non-null float64\n",
      "LP_CustomerPrincipalPayments           113937 non-null float64\n",
      "LP_InterestandFees                     113937 non-null float64\n",
      "LP_ServiceFees                         113937 non-null float64\n",
      "LP_CollectionFees                      113937 non-null float64\n",
      "LP_GrossPrincipalLoss                  113937 non-null float64\n",
      "LP_NetPrincipalLoss                    113937 non-null float64\n",
      "LP_NonPrincipalRecoverypayments        113937 non-null float64\n",
      "PercentFunded                          113937 non-null float64\n",
      "Recommendations                        113937 non-null int64\n",
      "InvestmentFromFriendsCount             113937 non-null int64\n",
      "InvestmentFromFriendsAmount            113937 non-null float64\n",
      "Investors                              113937 non-null int64\n",
      "dtypes: bool(3), float64(50), int64(11), object(17)\n",
      "memory usage: 68.1+ MB\n"
     ]
    }
   ],
   "source": [
    "df.info()"
   ]
  },
  {
   "cell_type": "markdown",
   "metadata": {},
   "source": [
    "I will pull a set of variables here for analysis (With the listing key only acting as a primary key). According to the pulled information about the dataset also, these variables will be fixed up and cleaned in my wrangling process."
   ]
  },
  {
   "cell_type": "code",
   "execution_count": 6,
   "metadata": {},
   "outputs": [],
   "source": [
    "# Pulling my main data\n",
    "df2 = df[['ListingKey','Term', 'LoanStatus', 'CreditGrade','ClosedDate','BorrowerAPR','BorrowerRate', 'EstimatedEffectiveYield'\n",
    "          ,'ProsperRating (Alpha)', 'ProsperScore', 'ListingCategory (numeric)','BorrowerState','EmploymentStatus'\n",
    "          , 'Occupation','IsBorrowerHomeowner', 'DebtToIncomeRatio','IncomeRange', 'StatedMonthlyIncome', 'LoanOriginalAmount'\n",
    "          , 'LoanOriginationDate','MonthlyLoanPayment','PercentFunded', 'Investors']]"
   ]
  },
  {
   "cell_type": "markdown",
   "metadata": {},
   "source": [
    "**Columns should be in lowercase.**"
   ]
  },
  {
   "cell_type": "code",
   "execution_count": 7,
   "metadata": {
    "scrolled": true
   },
   "outputs": [],
   "source": [
    "df2.columns = map(str.lower, df2.columns)"
   ]
  },
  {
   "cell_type": "markdown",
   "metadata": {},
   "source": [
    "**Two variables can be merged are the 'creditgrade' and the 'prosperrating (alpha)' for anlaysis purpose, and also sub any remaining null with 'OFF' as a value (These are listings with no running loan request).**\n",
    "\n",
    "I will replace the missing values with 'NC' as they are completed loans and as the same as predecessor loans which were graded that way."
   ]
  },
  {
   "cell_type": "code",
   "execution_count": 8,
   "metadata": {},
   "outputs": [],
   "source": [
    "# Merge the prosperrating (alpha) into the creitgrade\n",
    "df2.creditgrade.fillna(df2['prosperrating (alpha)'], inplace=True)\n",
    "# Handle remaining null as OFF\n",
    "df2['creditgrade'] = df2.creditgrade.fillna('NC')\n",
    "#Drop the prosperrating (alpha) column, we do not need it.\n",
    "df2 = df2.drop(['prosperrating (alpha)'], axis = 1)"
   ]
  },
  {
   "cell_type": "markdown",
   "metadata": {},
   "source": [
    "**For the 'incomerange' the 'Not employed' variable can be subbed by 0.**"
   ]
  },
  {
   "cell_type": "code",
   "execution_count": 9,
   "metadata": {},
   "outputs": [],
   "source": [
    "df2['incomerange'] = df2['incomerange'].replace('Not employed', '$0')"
   ]
  },
  {
   "cell_type": "markdown",
   "metadata": {},
   "source": [
    "**The 'listingcategory (numeric)' needs to be subbed by the corresponding listing explained in the dictionary sheet. Also renaming the column to get rid of symbols and spaces.**"
   ]
  },
  {
   "cell_type": "code",
   "execution_count": 10,
   "metadata": {},
   "outputs": [],
   "source": [
    "# Define rhe numbers as a string\n",
    "df2['listingcategory (numeric)'] = df2['listingcategory (numeric)'].astype(str)\n",
    "# use .replace and replace each variable\n",
    "df2['listingcategory (numeric)'] = df2['listingcategory (numeric)'].replace({'0' : 'Not Available', '1' : 'Debt Consolidation', '2' : 'Home Improvement'\n",
    "                                                                             , '3' : 'Business', '4' : 'Personal Loan', '5' : 'Student Use'\n",
    "                                                                             , '6' : 'Auto', '7' : 'Other', '8' : 'Baby&Adoption'\n",
    "                                                                             , '9' : 'Boat', '10' : 'Cosmetic Procedure', '11' : 'Engagement Ring'\n",
    "                                                                             , '12' : 'Green Loans', '13' : 'Household Expenses', '14' : 'Large Purchases'\n",
    "                                                                             , '15' : 'Medical/Dental', '16' : 'Motorcycle', '17' : 'RV'\n",
    "                                                                             , '18' : 'Taxes', '19' : 'Vacation', '20' : 'Wedding Loans'})\n"
   ]
  },
  {
   "cell_type": "markdown",
   "metadata": {},
   "source": [
    "**Rename the columns lisitngcategory (numeric) and prosperrating (numeric) to remove spaces and parenthesis.**"
   ]
  },
  {
   "cell_type": "code",
   "execution_count": 11,
   "metadata": {},
   "outputs": [],
   "source": [
    "df2.rename(columns = {\"listingcategory (numeric)\" : \"listingcat\"}, inplace = True)"
   ]
  },
  {
   "cell_type": "markdown",
   "metadata": {},
   "source": [
    "**Change the type of any date into timestamp to be easier for analysis.**"
   ]
  },
  {
   "cell_type": "code",
   "execution_count": 12,
   "metadata": {},
   "outputs": [],
   "source": [
    "df2.closeddate =  pd.to_datetime(df2.closeddate)\n",
    "df2.loanoriginationdate = pd.to_datetime(df2.loanoriginationdate)"
   ]
  },
  {
   "cell_type": "markdown",
   "metadata": {},
   "source": [
    "**Fill the remianing missing values in 'borrowerapr' by the mean of the column to make ease of use of the data for analysis, that way the level of accuracy will not be burdened much and will have ourselves the vast of the data to play around with.**"
   ]
  },
  {
   "cell_type": "code",
   "execution_count": 13,
   "metadata": {},
   "outputs": [],
   "source": [
    "df2['borrowerapr'] = df2.borrowerapr.fillna(df2['borrowerapr'].mean())"
   ]
  },
  {
   "cell_type": "markdown",
   "metadata": {},
   "source": [
    "**State names instead of abbreviations as the abbreviations are not easy for reading through. [Nice way of mapping here](https://stackoverflow.com/questions/20250771/remap-values-in-pandas-column-with-a-dict).**"
   ]
  },
  {
   "cell_type": "code",
   "execution_count": 14,
   "metadata": {},
   "outputs": [],
   "source": [
    "us_state_abbrev = {'AL': 'Alabama', 'AK': 'Alaska', 'AZ': 'Arizona', 'AR': 'Arkansas', 'CA': 'California', 'CO': 'Colorado'\n",
    "                   , 'CT': 'Connecticut', 'DE': 'Delaware', 'FL': 'Florida', 'GA': 'Georgia', 'HI': 'Hawaii', 'ID': 'Idaho'\n",
    "                   , 'IL': 'Illinois', 'IN': 'Indiana', 'IA': 'Iowa', 'KS': 'Kansas', 'KY': 'Kentucky', 'LA': 'Louisiana'\n",
    "                   , 'ME': 'Maine', 'MD': 'Maryland', 'MA': 'Massachusetts', 'MI': 'Michigan', 'MN': 'Minnesota'\n",
    "                   , 'MS': 'Mississippi', 'MO': 'Missouri', 'MT': 'Montana', 'NE': 'Nebraska', 'NV': 'Nevada'\n",
    "                   , 'NH': 'New Hampshire', 'NJ': 'New Jersey', 'NM': 'New Mexico', 'NY': 'New York'\n",
    "                   , 'NC': 'North Carolina', 'ND': 'North Dakota', 'OH': 'Ohio', 'OK': 'Oklahoma', 'OR': 'Oregon'\n",
    "                   , 'PA': 'Pennsylvania', 'RI': 'Rhode Island', 'SC': 'South Carolina', 'SD': 'South Dakota'\n",
    "                   , 'TN': 'Tennessee', 'TX': 'Texas', 'UT': 'Utah', 'VT': 'Vermont', 'VA': 'Virginia', 'WA': 'Washington'\n",
    "                   , 'WV': 'West Virginia', 'WI': 'Wisconsin', 'WY': 'Wyoming'}\n",
    "\n",
    "df2 = df2.replace({'borrowerstate' : us_state_abbrev})\n",
    "\n",
    "df2.borrowerstate = df2.borrowerstate.fillna('Not Stated')"
   ]
  },
  {
   "cell_type": "markdown",
   "metadata": {},
   "source": [
    "**Change the necessary variables to category.**"
   ]
  },
  {
   "cell_type": "code",
   "execution_count": 15,
   "metadata": {},
   "outputs": [],
   "source": [
    "# astype categorial\n",
    "df2.creditgrade = df2.creditgrade.astype('category')\n",
    "df2.loanstatus = df2.loanstatus.astype('category')\n",
    "df2.incomerange = df2.incomerange.astype('category')\n",
    "df2.listingcat = df2.listingcat.astype('category')"
   ]
  },
  {
   "cell_type": "code",
   "execution_count": 16,
   "metadata": {},
   "outputs": [
    {
     "data": {
      "text/html": [
       "<div>\n",
       "<style scoped>\n",
       "    .dataframe tbody tr th:only-of-type {\n",
       "        vertical-align: middle;\n",
       "    }\n",
       "\n",
       "    .dataframe tbody tr th {\n",
       "        vertical-align: top;\n",
       "    }\n",
       "\n",
       "    .dataframe thead th {\n",
       "        text-align: right;\n",
       "    }\n",
       "</style>\n",
       "<table border=\"1\" class=\"dataframe\">\n",
       "  <thead>\n",
       "    <tr style=\"text-align: right;\">\n",
       "      <th></th>\n",
       "      <th>listingkey</th>\n",
       "      <th>term</th>\n",
       "      <th>loanstatus</th>\n",
       "      <th>creditgrade</th>\n",
       "      <th>closeddate</th>\n",
       "      <th>borrowerapr</th>\n",
       "      <th>borrowerrate</th>\n",
       "      <th>estimatedeffectiveyield</th>\n",
       "      <th>prosperscore</th>\n",
       "      <th>listingcat</th>\n",
       "      <th>...</th>\n",
       "      <th>occupation</th>\n",
       "      <th>isborrowerhomeowner</th>\n",
       "      <th>debttoincomeratio</th>\n",
       "      <th>incomerange</th>\n",
       "      <th>statedmonthlyincome</th>\n",
       "      <th>loanoriginalamount</th>\n",
       "      <th>loanoriginationdate</th>\n",
       "      <th>monthlyloanpayment</th>\n",
       "      <th>percentfunded</th>\n",
       "      <th>investors</th>\n",
       "    </tr>\n",
       "  </thead>\n",
       "  <tbody>\n",
       "    <tr>\n",
       "      <th>0</th>\n",
       "      <td>1021339766868145413AB3B</td>\n",
       "      <td>36</td>\n",
       "      <td>Completed</td>\n",
       "      <td>C</td>\n",
       "      <td>2009-08-14</td>\n",
       "      <td>0.16516</td>\n",
       "      <td>0.1580</td>\n",
       "      <td>NaN</td>\n",
       "      <td>NaN</td>\n",
       "      <td>Not Available</td>\n",
       "      <td>...</td>\n",
       "      <td>Other</td>\n",
       "      <td>True</td>\n",
       "      <td>0.17</td>\n",
       "      <td>$25,000-49,999</td>\n",
       "      <td>3083.333333</td>\n",
       "      <td>9425</td>\n",
       "      <td>2007-09-12</td>\n",
       "      <td>330.43</td>\n",
       "      <td>1.0</td>\n",
       "      <td>258</td>\n",
       "    </tr>\n",
       "    <tr>\n",
       "      <th>1</th>\n",
       "      <td>10273602499503308B223C1</td>\n",
       "      <td>36</td>\n",
       "      <td>Current</td>\n",
       "      <td>A</td>\n",
       "      <td>NaT</td>\n",
       "      <td>0.12016</td>\n",
       "      <td>0.0920</td>\n",
       "      <td>0.07960</td>\n",
       "      <td>7.0</td>\n",
       "      <td>Home Improvement</td>\n",
       "      <td>...</td>\n",
       "      <td>Professional</td>\n",
       "      <td>False</td>\n",
       "      <td>0.18</td>\n",
       "      <td>$50,000-74,999</td>\n",
       "      <td>6125.000000</td>\n",
       "      <td>10000</td>\n",
       "      <td>2014-03-03</td>\n",
       "      <td>318.93</td>\n",
       "      <td>1.0</td>\n",
       "      <td>1</td>\n",
       "    </tr>\n",
       "    <tr>\n",
       "      <th>2</th>\n",
       "      <td>0EE9337825851032864889A</td>\n",
       "      <td>36</td>\n",
       "      <td>Completed</td>\n",
       "      <td>HR</td>\n",
       "      <td>2009-12-17</td>\n",
       "      <td>0.28269</td>\n",
       "      <td>0.2750</td>\n",
       "      <td>NaN</td>\n",
       "      <td>NaN</td>\n",
       "      <td>Not Available</td>\n",
       "      <td>...</td>\n",
       "      <td>Other</td>\n",
       "      <td>False</td>\n",
       "      <td>0.06</td>\n",
       "      <td>Not displayed</td>\n",
       "      <td>2083.333333</td>\n",
       "      <td>3001</td>\n",
       "      <td>2007-01-17</td>\n",
       "      <td>123.32</td>\n",
       "      <td>1.0</td>\n",
       "      <td>41</td>\n",
       "    </tr>\n",
       "    <tr>\n",
       "      <th>3</th>\n",
       "      <td>0EF5356002482715299901A</td>\n",
       "      <td>36</td>\n",
       "      <td>Current</td>\n",
       "      <td>A</td>\n",
       "      <td>NaT</td>\n",
       "      <td>0.12528</td>\n",
       "      <td>0.0974</td>\n",
       "      <td>0.08490</td>\n",
       "      <td>9.0</td>\n",
       "      <td>Motorcycle</td>\n",
       "      <td>...</td>\n",
       "      <td>Skilled Labor</td>\n",
       "      <td>True</td>\n",
       "      <td>0.15</td>\n",
       "      <td>$25,000-49,999</td>\n",
       "      <td>2875.000000</td>\n",
       "      <td>10000</td>\n",
       "      <td>2012-11-01</td>\n",
       "      <td>321.45</td>\n",
       "      <td>1.0</td>\n",
       "      <td>158</td>\n",
       "    </tr>\n",
       "    <tr>\n",
       "      <th>4</th>\n",
       "      <td>0F023589499656230C5E3E2</td>\n",
       "      <td>36</td>\n",
       "      <td>Current</td>\n",
       "      <td>D</td>\n",
       "      <td>NaT</td>\n",
       "      <td>0.24614</td>\n",
       "      <td>0.2085</td>\n",
       "      <td>0.18316</td>\n",
       "      <td>4.0</td>\n",
       "      <td>Home Improvement</td>\n",
       "      <td>...</td>\n",
       "      <td>Executive</td>\n",
       "      <td>True</td>\n",
       "      <td>0.26</td>\n",
       "      <td>$100,000+</td>\n",
       "      <td>9583.333333</td>\n",
       "      <td>15000</td>\n",
       "      <td>2013-09-20</td>\n",
       "      <td>563.97</td>\n",
       "      <td>1.0</td>\n",
       "      <td>20</td>\n",
       "    </tr>\n",
       "  </tbody>\n",
       "</table>\n",
       "<p>5 rows × 22 columns</p>\n",
       "</div>"
      ],
      "text/plain": [
       "                listingkey  term loanstatus creditgrade closeddate  \\\n",
       "0  1021339766868145413AB3B    36  Completed           C 2009-08-14   \n",
       "1  10273602499503308B223C1    36    Current           A        NaT   \n",
       "2  0EE9337825851032864889A    36  Completed          HR 2009-12-17   \n",
       "3  0EF5356002482715299901A    36    Current           A        NaT   \n",
       "4  0F023589499656230C5E3E2    36    Current           D        NaT   \n",
       "\n",
       "   borrowerapr  borrowerrate  estimatedeffectiveyield  prosperscore  \\\n",
       "0      0.16516        0.1580                      NaN           NaN   \n",
       "1      0.12016        0.0920                  0.07960           7.0   \n",
       "2      0.28269        0.2750                      NaN           NaN   \n",
       "3      0.12528        0.0974                  0.08490           9.0   \n",
       "4      0.24614        0.2085                  0.18316           4.0   \n",
       "\n",
       "         listingcat  ...     occupation isborrowerhomeowner debttoincomeratio  \\\n",
       "0     Not Available  ...          Other                True              0.17   \n",
       "1  Home Improvement  ...   Professional               False              0.18   \n",
       "2     Not Available  ...          Other               False              0.06   \n",
       "3        Motorcycle  ...  Skilled Labor                True              0.15   \n",
       "4  Home Improvement  ...      Executive                True              0.26   \n",
       "\n",
       "      incomerange  statedmonthlyincome loanoriginalamount  \\\n",
       "0  $25,000-49,999          3083.333333               9425   \n",
       "1  $50,000-74,999          6125.000000              10000   \n",
       "2   Not displayed          2083.333333               3001   \n",
       "3  $25,000-49,999          2875.000000              10000   \n",
       "4       $100,000+          9583.333333              15000   \n",
       "\n",
       "   loanoriginationdate  monthlyloanpayment percentfunded  investors  \n",
       "0           2007-09-12              330.43           1.0        258  \n",
       "1           2014-03-03              318.93           1.0          1  \n",
       "2           2007-01-17              123.32           1.0         41  \n",
       "3           2012-11-01              321.45           1.0        158  \n",
       "4           2013-09-20              563.97           1.0         20  \n",
       "\n",
       "[5 rows x 22 columns]"
      ]
     },
     "execution_count": 16,
     "metadata": {},
     "output_type": "execute_result"
    }
   ],
   "source": [
    "df2.head()"
   ]
  },
  {
   "cell_type": "code",
   "execution_count": 17,
   "metadata": {},
   "outputs": [
    {
     "name": "stdout",
     "output_type": "stream",
     "text": [
      "<class 'pandas.core.frame.DataFrame'>\n",
      "RangeIndex: 113937 entries, 0 to 113936\n",
      "Data columns (total 22 columns):\n",
      "listingkey                 113937 non-null object\n",
      "term                       113937 non-null int64\n",
      "loanstatus                 113937 non-null category\n",
      "creditgrade                113937 non-null category\n",
      "closeddate                 55089 non-null datetime64[ns]\n",
      "borrowerapr                113937 non-null float64\n",
      "borrowerrate               113937 non-null float64\n",
      "estimatedeffectiveyield    84853 non-null float64\n",
      "prosperscore               84853 non-null float64\n",
      "listingcat                 113937 non-null category\n",
      "borrowerstate              113937 non-null object\n",
      "employmentstatus           111682 non-null object\n",
      "occupation                 110349 non-null object\n",
      "isborrowerhomeowner        113937 non-null bool\n",
      "debttoincomeratio          105383 non-null float64\n",
      "incomerange                113937 non-null category\n",
      "statedmonthlyincome        113937 non-null float64\n",
      "loanoriginalamount         113937 non-null int64\n",
      "loanoriginationdate        113937 non-null datetime64[ns]\n",
      "monthlyloanpayment         113937 non-null float64\n",
      "percentfunded              113937 non-null float64\n",
      "investors                  113937 non-null int64\n",
      "dtypes: bool(1), category(4), datetime64[ns](2), float64(8), int64(3), object(4)\n",
      "memory usage: 15.3+ MB\n"
     ]
    }
   ],
   "source": [
    "df2.info()"
   ]
  },
  {
   "cell_type": "markdown",
   "metadata": {},
   "source": [
    "# Dataset Structure\n",
    "## Main features of the dataset\n",
    "Originated from [prosper.com's](https://www.prosper.com/?__cf_chl_jschl_tk__=e899926cde20d85215ef8a493acdf9e611aacf3b-1580555999-0-AWb3rCeHooyvygS0TzuNV_Qtlv033CU6qKgwclNxd3bQqtYShRdd65iiB0cACnN8U9ZPY86BoQyQ-joRvagwjlpEgnc7bC-RQy-lyJnHDPbu-ms-XQhRlPblVmWxRAIEtEfUfY5jDq3ptwIpMKKFtNoumhR7jHJIvOsY-jm7Xc4Sii2tkfBbnPK25kaMiiAQsxv_w40CLUIXvt6PH9K0c0MIWmvQpBpTzFRkYYgdbEgf_H3VAieQZh8YVZhLbn06QzupGbsg4g6rZjInNcssBhQyciZqvFd4mCpw_BIdOiTrasQMP9uKm2HZFEHtsZR-6g) data, this dataset contains 113,937 loan data listings. Variables are either numeric or categorial in this dataset. Not all the variables are present, I extracted the main ones of interest to use in my analysis where visualizations are best to describe the good and bad numbers.\n",
    "## Main Interests and Motivation\n",
    "I am interested to see a number of different aspects that foresees the borrowers' status, income range and so against loans requested. This can be tackled by a series of questions answered by plots of univariate, bivatiate and multivariate models.\n",
    "\n",
    "In my opinion, borrowing rate increases by the year, and investors are very encouraged to sponsor loans due to the high ROI given good borrowers' state. So it is up to my analysis to conduct questions as previously stated.\n",
    "\n",
    "I am using seaborn matplotlib and plotly express to present my motivation."
   ]
  },
  {
   "cell_type": "markdown",
   "metadata": {},
   "source": [
    "# Analysis and Visualization\n",
    "## Univariate plots"
   ]
  },
  {
   "cell_type": "markdown",
   "metadata": {},
   "source": [
    "**What are the Loan amounts mostly requested by the borrowers?**"
   ]
  },
  {
   "cell_type": "code",
   "execution_count": 18,
   "metadata": {},
   "outputs": [
    {
     "data": {
      "image/png": "[encoded data removed]",
      "text/plain": [
       "<Figure size 576x360 with 1 Axes>"
      ]
     },
     "metadata": {
      "needs_background": "light"
     },
     "output_type": "display_data"
    }
   ],
   "source": [
    "# Set a reasonable bin\n",
    "bins = np.arange(0,df2['loanoriginalamount'].max()+1000, 1000)\n",
    "# Plot the data\n",
    "plt.figure(figsize = [8, 5])\n",
    "plt.hist(data = df2, x = 'loanoriginalamount', bins = bins);\n",
    "plt.xlabel('Loan Amount $');\n",
    "plt.xticks([0, 5000, 10000, 15000, 20000, 25000, 30000, 35000], ['0', '5k', '10k', '15k', '20k', '25k', '30k', '35k']);\n",
    "plt.show();"
   ]
  },
  {
   "cell_type": "markdown",
   "metadata": {},
   "source": [
    "The plot shows a bimodal view. Most loan amounts requested is the $5,000 showing slightly more than 16,000 request in count. \n",
    "\n",
    "Spikes of  values can be seen along the histogram, with the second most requests for loan amounts slightly more than the $15,000 mark. Now in order to understand more if borrowers are forking up loans that are relatively 'high' or 'low' I will need to look at another 3 variables, the loan terms, income range and the loan states."
   ]
  },
  {
   "cell_type": "markdown",
   "metadata": {},
   "source": [
    "**How are the borrowers fare in terms of their income range, duration of loans and their loans status?**"
   ]
  },
  {
   "cell_type": "code",
   "execution_count": 19,
   "metadata": {},
   "outputs": [
    {
     "data": {
      "image/png": "[encoded data removed]",
      "text/plain": [
       "<Figure size 1224x720 with 3 Axes>"
      ]
     },
     "metadata": {
      "needs_background": "light"
     },
     "output_type": "display_data"
    }
   ],
   "source": [
    "plt.figure(figsize = [17, 10])\n",
    "\n",
    "# Income range spread\n",
    "plt.subplot(2, 2, 1) # 1 row, 2 cols, subplot 1\n",
    "base_color = sb.color_palette()[0]\n",
    "order = ['$0', '$1-24,999', '$25,000-49,999', '$50,000-74,999', '$75,000-99,999', '$100,000+', 'Not displayed']\n",
    "sb.countplot(data = df2, x = 'incomerange', color = base_color, order = order);\n",
    "plt.xticks(rotation = 25);\n",
    "plt.xlabel('Income');\n",
    "plt.ylabel('Number Of Individuals');\n",
    "plt.title('Income Range');\n",
    "\n",
    "# Loan terms\n",
    "plt.subplot(2, 2, 2) # 1 row, 2 cols, subplot 2\n",
    "base_color = sb.color_palette()[0]\n",
    "sb.countplot(data = df2, x = 'term', color = base_color);\n",
    "plt.xlabel('Loan Term In Months');\n",
    "plt.ylabel('Number Of loans');\n",
    "plt.title('Loans Duration');\n",
    "\n",
    "# Loan status\n",
    "plt.subplot(2, 2, 3) # 1 row, 2 cols, subplot 2\n",
    "base_color = sb.color_palette()[0]\n",
    "order = ['Completed', 'Current', 'FinalPaymentInProgress', 'Chargedoff', 'Defualted', 'Past Due (1-15 days)', 'Past Due (16-30)'\n",
    "         , 'Past Due (61-90 days)', 'Past Due (31-60 days)', 'Past Due (91-120 days)', 'Past Due (>120 days)', 'Cancelled']\n",
    "sb.countplot(data = df2, y = 'loanstatus', color = base_color, order = order);\n",
    "plt.xlabel('Loan Status')\n",
    "plt.ylabel('Nuber Of Loans');\n",
    "plt.title('Loan States')\n",
    "\n",
    "plt.tight_layout()"
   ]
  },
  {
   "cell_type": "code",
   "execution_count": null,
   "metadata": {},
   "outputs": [],
   "source": []
  }
 ],
 "metadata": {
  "kernelspec": {
   "display_name": "Python 3",
   "language": "python",
   "name": "python3"
  },
  "language_info": {
   "codemirror_mode": {
    "name": "ipython",
    "version": 3
   },
   "file_extension": ".py",
   "mimetype": "text/x-python",
   "name": "python",
   "nbconvert_exporter": "python",
   "pygments_lexer": "ipython3",
   "version": "3.7.3"
  }
 },
 "nbformat": 4,
 "nbformat_minor": 2
}
